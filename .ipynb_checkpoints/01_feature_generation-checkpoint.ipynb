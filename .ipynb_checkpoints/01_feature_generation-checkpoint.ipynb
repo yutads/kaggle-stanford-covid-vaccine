{
 "cells": [
  {
   "cell_type": "markdown",
   "metadata": {
    "id": "j8cFBaEk4byp"
   },
   "source": [
    "# 特徴量作成"
   ]
  },
  {
   "cell_type": "code",
   "execution_count": 1,
   "metadata": {},
   "outputs": [],
   "source": [
    "#practice"
   ]
  },
  {
   "cell_type": "code",
   "execution_count": 1,
   "metadata": {
    "executionInfo": {
     "elapsed": 1011,
     "status": "ok",
     "timestamp": 1601734692737,
     "user": {
      "displayName": "yutaka minowa",
      "photoUrl": "",
      "userId": "11202264431687617954"
     },
     "user_tz": -540
    },
    "id": "1UFmfz0PHvUW"
   },
   "outputs": [],
   "source": [
    "import pandas as pd\n",
    "import numpy as np\n",
    "import glob"
   ]
  },
  {
   "cell_type": "code",
   "execution_count": 2,
   "metadata": {
    "colab": {
     "base_uri": "https://localhost:8080/",
     "height": 34
    },
    "executionInfo": {
     "elapsed": 17709,
     "status": "ok",
     "timestamp": 1601734709451,
     "user": {
      "displayName": "yutaka minowa",
      "photoUrl": "",
      "userId": "11202264431687617954"
     },
     "user_tz": -540
    },
    "id": "03_bmUKp2spK",
    "outputId": "a7c1ada2-4aa9-4ec4-ab80-18a43fb3fab0"
   },
   "outputs": [
    {
     "name": "stdout",
     "output_type": "stream",
     "text": [
      "Mounted at /content/drive\n"
     ]
    }
   ],
   "source": [
    "from google.colab import drive\n",
    "drive.mount('/content/drive')\n",
    "\n",
    "data_dir = 'drive/My Drive'"
   ]
  },
  {
   "cell_type": "markdown",
   "metadata": {
    "id": "iBOZxVHvHsNf"
   },
   "source": [
    "## Data読み込み"
   ]
  },
  {
   "cell_type": "code",
   "execution_count": null,
   "metadata": {
    "id": "xcQNSz9b2vMR"
   },
   "outputs": [],
   "source": [
    "train = pd.read_json(data_dir + '/kaggle/input/stanford-covid-vaccine/train.json', lines=True)\n",
    "test = pd.read_json(data_dir + '/kaggle/input/stanford-covid-vaccine/test.json', lines=True)\n",
    "sample_sub = pd.read_csv(data_dir + '/kaggle/input/stanford-covid-vaccine/sample_submission.csv')"
   ]
  },
  {
   "cell_type": "markdown",
   "metadata": {
    "id": "ru_LJCX33TX5"
   },
   "source": [
    "## 特徴量生成のための関数"
   ]
  },
  {
   "cell_type": "code",
   "execution_count": null,
   "metadata": {
    "id": "zmVwmiwM208i"
   },
   "outputs": [],
   "source": [
    "#npyから結合の数を示す特徴量を作成\n",
    "def number_bonds(df):\n",
    "    chemical_bonds_weak = []\n",
    "    chemical_bonds_normal = []\n",
    "    chemical_bonds_strong = []\n",
    "    for i in df.id:\n",
    "        chemical_bond_weak = []\n",
    "        chemical_bond_normal = []\n",
    "        chemical_bond_strong = []\n",
    "        file_ = glob.glob(data_dir + '/kaggle/input/stanford-covid-vaccine/bpps/' + i + '.npy')\n",
    "        for k in range(len(df[df['id'] == i]['structure'].iloc[0])):\n",
    "            chemical_bond_weak.append(np.count_nonzero((np.load(file_[0])[k] > 0) & (np.load(file_[0])[k] < 0.1)))\n",
    "            chemical_bond_normal.append(np.count_nonzero((np.load(file_[0])[k] >= 0.1) & (np.load(file_[0])[k] < 0.5)))\n",
    "            chemical_bond_strong.append(np.count_nonzero((np.load(file_[0])[k] >= 0.5) & (np.load(file_[0])[k] <= 1)))\n",
    "\n",
    "        chemical_bonds_weak.append(chemical_bond_weak)\n",
    "        chemical_bonds_normal.append(chemical_bond_normal)\n",
    "        chemical_bonds_strong.append(chemical_bond_strong)\n",
    "    return chemical_bonds_weak, chemical_bonds_normal, chemical_bonds_strong\n",
    "\n",
    "#npyから結合の数を示す特徴量を作成(標準化)\n",
    "def number_bonds_(df):\n",
    "    chemical_bonds_weak = []\n",
    "    chemical_bonds_normal = []\n",
    "    chemical_bonds_strong = []\n",
    "    for i in df.id:\n",
    "        chemical_bond_weak = []\n",
    "        chemical_bond_normal = []\n",
    "        chemical_bond_strong = []\n",
    "        file_ = glob.glob(data_dir + '/kaggle/input/stanford-covid-vaccine/bpps/' + i + '.npy')\n",
    "        for k in range(len(df[df['id'] == i]['structure'].iloc[0])):\n",
    "            chemical_bond_weak.append(np.count_nonzero((np.load(file_[0])[k] > 0) & (np.load(file_[0])[k] < 0.1))/100)\n",
    "            chemical_bond_normal.append(np.count_nonzero((np.load(file_[0])[k] >= 0.1) & (np.load(file_[0])[k] < 0.5))/5)\n",
    "            chemical_bond_strong.append(np.count_nonzero((np.load(file_[0])[k] >= 0.5) & (np.load(file_[0])[k] <= 1)))\n",
    "\n",
    "        chemical_bonds_weak.append(chemical_bond_weak)\n",
    "        chemical_bonds_normal.append(chemical_bond_normal)\n",
    "        chemical_bonds_strong.append(chemical_bond_strong)\n",
    "    return chemical_bonds_weak, chemical_bonds_normal, chemical_bonds_strong\n",
    "\n",
    "#npyから結合の強さを示す特徴量を作成\n",
    "def strength_bonds(df):\n",
    "    chemical_bonds = []\n",
    "    for i in df.id:\n",
    "        chemical_bond = []\n",
    "        for k in range(len(df[df['id'] == i]['structure'].iloc[0])):\n",
    "            if df[df['id'] == i]['structure'].iloc[0][k] == '.':\n",
    "                chemical_bond.append(0)\n",
    "                continue\n",
    "            file_ = glob.glob(data_dir + '/kaggle/input/stanford-covid-vaccine/bpps/' + i + '.npy')\n",
    "            chemical_bond.append(np.max(np.load(file_[0])[k]))\n",
    "        chemical_bonds.append(chemical_bond)\n",
    "    return chemical_bonds\n",
    "\n",
    "#C-G, G-C, A-U,　U-A, U-G,　G-Uのどの結合であるのかを示す特徴量を作成\n",
    "def base_pairs(df):\n",
    "    data_pairs = []\n",
    "    for j in range(len(df)):\n",
    "        pairs_dict = {}\n",
    "        queue = []\n",
    "        data_pair = ['0']* len(df.iloc[j]['structure'])\n",
    "        for i in range(0, len(df.iloc[j]['structure'])):\n",
    "            if df.iloc[j]['structure'][i] == '(':\n",
    "                queue.append(i)\n",
    "            if df.iloc[j]['structure'][i] == ')':\n",
    "                first = queue.pop()\n",
    "                data_pair[first] = df.iloc[j]['sequence'][first] + '-' + df.iloc[j]['sequence'][i]\n",
    "                data_pair[i] = df.iloc[j]['sequence'][first] + '-' + df.iloc[j]['sequence'][i]\n",
    "        data_pairs.append(data_pair)\n",
    "    return data_pairs\n",
    "\n",
    "\n",
    "def read_bpps_max(df):\n",
    "    bpps_arr = []\n",
    "    for mol_id in df.id.to_list():\n",
    "        bpps_arr.append(np.load(data_dir + f\"/kaggle/input/stanford-covid-vaccine/bpps/{mol_id}.npy\").max(axis=1))\n",
    "    return bpps_arr\n",
    "\n",
    "def read_bpps_sum(df):\n",
    "    bpps_arr = []\n",
    "    for mol_id in df.id.to_list():\n",
    "        bpps_arr.append(np.load(data_dir + f\"/kaggle/input/stanford-covid-vaccine/bpps/{mol_id}.npy\").sum(axis=1))\n",
    "    return bpps_arr\n",
    "\n",
    "def read_bpps_nb(df):\n",
    "    # normalized non-zero number\n",
    "    # from https://www.kaggle.com/symyksr/openvaccine-deepergcn \n",
    "    bpps_nb_mean = 0.077522 # mean of bpps_nb across all training data\n",
    "    bpps_nb_std = 0.08914   # std of bpps_nb across all training data\n",
    "    bpps_arr = []\n",
    "    for mol_id in df.id.to_list():\n",
    "        bpps = np.load(data_dir + f\"/kaggle/input/stanford-covid-vaccine/bpps/{mol_id}.npy\")\n",
    "        bpps_nb = (bpps > 0).sum(axis=0) / bpps.shape[0]\n",
    "        bpps_nb = (bpps_nb - bpps_nb_mean) / bpps_nb_std\n",
    "        bpps_arr.append(bpps_nb)\n",
    "    return bpps_arr"
   ]
  },
  {
   "cell_type": "markdown",
   "metadata": {
    "id": "AzrnhYZw3P6o"
   },
   "source": [
    "## 化学結合の数"
   ]
  },
  {
   "cell_type": "code",
   "execution_count": null,
   "metadata": {
    "id": "3YIR9rggHIEH"
   },
   "outputs": [],
   "source": [
    "train_number_bonds_weak, train_number_bonds_normal, train_number_bonds_strong = number_bonds(train)\n",
    "np.save(data_dir + '/kaggle/input/stanford-covid-vaccine/train_number_bonds_weak', train_number_bonds_weak)\n",
    "np.save(data_dir + '/kaggle/input/stanford-covid-vaccine/train_number_bonds_normal', train_number_bonds_normal)\n",
    "np.save(data_dir + '/kaggle/input/stanford-covid-vaccine/train_number_bonds_strong', train_number_bonds_strong)\n",
    "\n",
    "test_number_bonds_weak, test_number_bonds_normal, test_number_bonds_strong = number_bonds(test)\n",
    "np.save(data_dir + '/kaggle/input/stanford-covid-vaccine/test_number_bonds_weak', test_number_bonds_weak)\n",
    "np.save(data_dir + '/kaggle/input/stanford-covid-vaccine/test_number_bonds_normal', test_number_bonds_normal)\n",
    "np.save(data_dir + '/kaggle/input/stanford-covid-vaccine/test_number_bonds_strong', test_number_bonds_strong)"
   ]
  },
  {
   "cell_type": "code",
   "execution_count": null,
   "metadata": {
    "id": "d6EfsHHk_XAz"
   },
   "outputs": [],
   "source": [
    "train_number_bonds_weak, train_number_bonds_normal, train_number_bonds_strong = number_bonds_(train)\n",
    "np.save(data_dir + '/kaggle/input/stanford-covid-vaccine/train_number_bonds_weak_', train_number_bonds_weak)\n",
    "np.save(data_dir + '/kaggle/input/stanford-covid-vaccine/train_number_bonds_normal_', train_number_bonds_normal)\n",
    "np.save(data_dir + '/kaggle/input/stanford-covid-vaccine/train_number_bonds_strong_', train_number_bonds_strong)\n",
    "\n",
    "test_number_bonds_weak, test_number_bonds_normal, test_number_bonds_strong = number_bonds_(test)\n",
    "np.save(data_dir + '/kaggle/input/stanford-covid-vaccine/test_number_bonds_weak_', test_number_bonds_weak)\n",
    "np.save(data_dir + '/kaggle/input/stanford-covid-vaccine/test_number_bonds_normal_', test_number_bonds_normal)\n",
    "np.save(data_dir + '/kaggle/input/stanford-covid-vaccine/test_number_bonds_strong_', test_number_bonds_strong)"
   ]
  },
  {
   "cell_type": "markdown",
   "metadata": {
    "id": "Y0xhH2tW3cAS"
   },
   "source": [
    "## 化学結合の強さ"
   ]
  },
  {
   "cell_type": "code",
   "execution_count": null,
   "metadata": {
    "id": "rbAu-QP7E1ai"
   },
   "outputs": [],
   "source": [
    "train_chemical_bonds = strength_bonds(train)\n",
    "np.save(data_dir + '/kaggle/input/stanford-covid-vaccine/train_chemical_bonds', train_chemical_bonds)\n",
    "\n",
    "test_chemical_bonds = strength_bonds(test)\n",
    "np.save(data_dir + '/kaggle/input/stanford-covid-vaccine/test_chemical_bonds', test_chemical_bonds)"
   ]
  },
  {
   "cell_type": "markdown",
   "metadata": {
    "id": "GibdM-It3lZd"
   },
   "source": [
    "## 塩基結合の種類(C-G,G-C,A-U,U-A,U-G,G-U)"
   ]
  },
  {
   "cell_type": "code",
   "execution_count": null,
   "metadata": {
    "id": "LBMNx_xp3v4T"
   },
   "outputs": [],
   "source": [
    "train_base_pairs = base_pairs(train)\n",
    "np.save(data_dir + '/kaggle/input/stanford-covid-vaccine/train_base_pairs', train_base_pairs)\n",
    "\n",
    "test_base_pairs = base_pairs(test)\n",
    "np.save(data_dir + '/kaggle/input/stanford-covid-vaccine/test_base_pairs', test_base_pairs)"
   ]
  },
  {
   "cell_type": "markdown",
   "metadata": {
    "id": "_LCi3Dz3365K"
   },
   "source": [
    "## 結合方法から新たな特徴量算出\n",
    "\n",
    "参考 \n",
    "https://www.kaggle.com/its7171/gru-lstm-with-feature-engineering-and-augmentation"
   ]
  },
  {
   "cell_type": "code",
   "execution_count": null,
   "metadata": {
    "id": "MO5UYzb337UG"
   },
   "outputs": [],
   "source": [
    "train_bpps_sum = read_bpps_sum(train)\n",
    "test_bpps_sum = read_bpps_sum(test)\n",
    "train_bpps_max = read_bpps_max(train)\n",
    "test_bpps_max = read_bpps_max(test)\n",
    "train_bpps_nb = read_bpps_nb(train)\n",
    "test_bpps_nb = read_bpps_nb(test)\n",
    "\n",
    "np.save(data_dir + '/kaggle/input/stanford-covid-vaccine/train_bpps_sum', train_bpps_sum)\n",
    "np.save(data_dir + '/kaggle/input/stanford-covid-vaccine/test_bpps_sum', test_bpps_sum)\n",
    "\n",
    "np.save(data_dir + '/kaggle/input/stanford-covid-vaccine/train_bpps_max', train_bpps_max)\n",
    "np.save(data_dir + '/kaggle/input/stanford-covid-vaccine/test_bpps_max', test_bpps_max)\n",
    "\n",
    "np.save(data_dir + '/kaggle/input/stanford-covid-vaccine/train_bpps_nb', train_bpps_nb)\n",
    "np.save(data_dir + '/kaggle/input/stanford-covid-vaccine/test_bpps_nb', test_bpps_nb)"
   ]
  },
  {
   "cell_type": "markdown",
   "metadata": {
    "id": "W3l-MF3V4Xel"
   },
   "source": [
    "# Data Load"
   ]
  },
  {
   "cell_type": "markdown",
   "metadata": {
    "id": "Gpow2Ap34fiv"
   },
   "source": [
    "## 塩基の結合種類"
   ]
  },
  {
   "cell_type": "code",
   "execution_count": null,
   "metadata": {
    "id": "KMlE2ynpHjKA"
   },
   "outputs": [],
   "source": [
    "train_base_pairs = np.load(data_dir + '/kaggle/input/stanford-covid-vaccine/train_base_pairs.npy',allow_pickle=True)\n",
    "test_base_pairs = np.load(data_dir + '/kaggle/input/stanford-covid-vaccine/test_base_pairs.npy',allow_pickle=True)\n",
    "\n",
    "train_base_pairs = pd.DataFrame({'base_pairs': train_base_pairs.tolist()})\n",
    "train = pd.merge(train, train_base_pairs, left_index=True, right_index=True)\n",
    "\n",
    "test_base_pair = pd.DataFrame({'base_pairs': test_base_pairs.tolist()})\n",
    "test = pd.merge(test, test_base_pair, left_index=True, right_index=True)"
   ]
  },
  {
   "cell_type": "markdown",
   "metadata": {
    "id": "Rb85FTYn4waF"
   },
   "source": [
    "## 化学結合の強さ"
   ]
  },
  {
   "cell_type": "code",
   "execution_count": null,
   "metadata": {
    "id": "sbPSpdkv4ioR"
   },
   "outputs": [],
   "source": [
    "train_chemical_bonds = np.load(data_dir + '/kaggle/input/stanford-covid-vaccine/train_chemical_bonds.npy',allow_pickle=True)\n",
    "test_chemical_bonds = np.load(data_dir + '/kaggle/input/stanford-covid-vaccine/test_chemical_bonds.npy',allow_pickle=True)\n",
    "\n",
    "train_chemical_bonds = pd.DataFrame({'chemical_bonds': train_chemical_bonds.tolist()})\n",
    "test_chemical_bonds = pd.DataFrame({'chemical_bonds': test_chemical_bonds.tolist()})\n",
    "\n",
    "train_chemical_bonds_temp = np.squeeze(np.array(train_chemical_bonds.values.tolist()))\n",
    "train_chemical_bonds_temp[(train_chemical_bonds_temp <= 1) & (train_chemical_bonds_temp > 0.75)] = 4\n",
    "train_chemical_bonds_temp[(train_chemical_bonds_temp <= 0.75) & (train_chemical_bonds_temp > 0.5)] = 3\n",
    "train_chemical_bonds_temp[(train_chemical_bonds_temp <= 0.5) & (train_chemical_bonds_temp > 0.25)] = 2\n",
    "train_chemical_bonds_temp[(train_chemical_bonds_temp <= 0.25) & (train_chemical_bonds_temp > 0)] = 1\n",
    "for i in range(train_chemical_bonds.shape[0]):\n",
    "    train_chemical_bonds.iloc[i]['chemical_bonds'] = train_chemical_bonds_temp[i].tolist()\n",
    "\n",
    "test_chemical_bonds_threshold = []\n",
    "for i in range(test_chemical_bonds.values.shape[0]):\n",
    "    test_chemical_bonds_temp = np.array(test_chemical_bonds.values.copy()[i][0])\n",
    "    test_chemical_bonds_temp[(test_chemical_bonds_temp <= 1) & (test_chemical_bonds_temp > 0.75)] = 4\n",
    "    test_chemical_bonds_temp[(test_chemical_bonds_temp <= 0.75) & (test_chemical_bonds_temp > 0.5)] = 3\n",
    "    test_chemical_bonds_temp[(test_chemical_bonds_temp <= 0.5) & (test_chemical_bonds_temp > 0.25)] = 2\n",
    "    test_chemical_bonds_temp[(test_chemical_bonds_temp <= 0.25) & (test_chemical_bonds_temp > 0)] = 1\n",
    "    test_chemical_bonds_threshold.append(test_chemical_bonds_temp)\n",
    "test_chemical_bonds['chemical_bonds'] = test_chemical_bonds_threshold\n",
    "\n",
    "train = pd.merge(train, train_chemical_bonds, left_index=True, right_index=True)\n",
    "test = pd.merge(test, test_chemical_bonds, left_index=True, right_index=True)"
   ]
  },
  {
   "cell_type": "markdown",
   "metadata": {
    "id": "nL_rnc9745W-"
   },
   "source": [
    "### 結合方法から新たな特徴量算出\n",
    "\n",
    "\n",
    "参考 \n",
    "https://www.kaggle.com/its7171/gru-lstm-with-feature-engineering-and-augmentation"
   ]
  },
  {
   "cell_type": "code",
   "execution_count": null,
   "metadata": {
    "id": "3gser9P444nR"
   },
   "outputs": [],
   "source": [
    "train_bpps_sum = np.load(data_dir + '/kaggle/input/stanford-covid-vaccine/train_bpps_sum.npy',allow_pickle=True)\n",
    "train_bpps_max = np.load(data_dir + '/kaggle/input/stanford-covid-vaccine/train_bpps_max.npy',allow_pickle=True)\n",
    "train_bpps_nb  = np.load(data_dir + '/kaggle/input/stanford-covid-vaccine/train_bpps_nb.npy',allow_pickle=True)\n",
    "\n",
    "test_bpps_sum = np.load(data_dir + '/kaggle/input/stanford-covid-vaccine/test_bpps_sum.npy',allow_pickle=True)\n",
    "test_bpps_max = np.load(data_dir + '/kaggle/input/stanford-covid-vaccine/test_bpps_max.npy',allow_pickle=True)\n",
    "test_bpps_nb  = np.load(data_dir + '/kaggle/input/stanford-covid-vaccine/test_bpps_nb.npy',allow_pickle=True)\n",
    "\n",
    "train_bpps_sum = pd.DataFrame({'bpps_sum': train_bpps_sum.tolist()})\n",
    "train_bpps_max = pd.DataFrame({'bpps_max': train_bpps_max.tolist()})\n",
    "train_bpps_nb = pd.DataFrame({'bpps_nb': train_bpps_nb.tolist()})\n",
    "\n",
    "test_bpps_sum = pd.DataFrame({'bpps_sum': test_bpps_sum.tolist()})\n",
    "test_bpps_max = pd.DataFrame({'bpps_max': test_bpps_max.tolist()})\n",
    "test_bpps_nb = pd.DataFrame({'bpps_nb': test_bpps_nb.tolist()})\n",
    "\n",
    "train_bpps = pd.concat([train_bpps_sum, train_bpps_max, train_bpps_nb], axis=1)\n",
    "train = pd.merge(train, train_bpps, left_index=True, right_index=True)\n",
    "\n",
    "test_bpps = pd.concat([test_bpps_sum, test_bpps_max, test_bpps_nb], axis=1)\n",
    "test = pd.merge(test, test_bpps, left_index=True, right_index=True)"
   ]
  },
  {
   "cell_type": "markdown",
   "metadata": {
    "id": "5JP7PbZb5EwZ"
   },
   "source": [
    "## 化学結合の数"
   ]
  },
  {
   "cell_type": "code",
   "execution_count": null,
   "metadata": {
    "id": "LRoukj4d4_18"
   },
   "outputs": [],
   "source": [
    "train_number_bonds_weak = np.load(data_dir + '/kaggle/input/stanford-covid-vaccine/train_number_bonds_weak_.npy',allow_pickle=True)\n",
    "train_number_bonds_normal = np.load(data_dir + '/kaggle/input/stanford-covid-vaccine/train_number_bonds_normal_.npy',allow_pickle=True)\n",
    "train_number_bonds_strong = np.load(data_dir + '/kaggle/input/stanford-covid-vaccine/train_number_bonds_strong_.npy',allow_pickle=True)\n",
    "\n",
    "test_number_bonds_weak = np.load(data_dir + '/kaggle/input/stanford-covid-vaccine/test_number_bonds_weak_.npy',allow_pickle=True)\n",
    "test_number_bonds_normal = np.load(data_dir + '/kaggle/input/stanford-covid-vaccine/test_number_bonds_normal_.npy',allow_pickle=True)\n",
    "test_number_bonds_strong = np.load(data_dir + '/kaggle/input/stanford-covid-vaccine/test_number_bonds_strong_.npy',allow_pickle=True)\n",
    "\n",
    "train_number_bonds_weak = pd.DataFrame({'number_bonds_weak': train_number_bonds_weak.tolist()})\n",
    "train_number_bonds_normal = pd.DataFrame({'number_bonds_normal': train_number_bonds_normal.tolist()})\n",
    "train_number_bonds_strong = pd.DataFrame({'number_bonds_strong': train_number_bonds_strong.tolist()})\n",
    "\n",
    "test_number_bonds_weak = pd.DataFrame({'number_bonds_weak': test_number_bonds_weak.tolist()})\n",
    "test_number_bonds_normal = pd.DataFrame({'number_bonds_normal': test_number_bonds_normal.tolist()})\n",
    "test_number_bonds_strong = pd.DataFrame({'number_bonds_strong': test_number_bonds_strong.tolist()})\n",
    "\n",
    "train_number_bonds = pd.concat([train_number_bonds_weak, train_number_bonds_normal,train_number_bonds_strong], axis=1)\n",
    "train = pd.merge(train, train_number_bonds, left_index=True, right_index=True)\n",
    "\n",
    "test_number_bonds = pd.concat([test_number_bonds_weak,test_number_bonds_normal,test_number_bonds_strong], axis=1)\n",
    "test = pd.merge(test, test_number_bonds, left_index=True, right_index=True)"
   ]
  },
  {
   "cell_type": "code",
   "execution_count": null,
   "metadata": {
    "colab": {
     "base_uri": "https://localhost:8080/",
     "height": 564
    },
    "executionInfo": {
     "elapsed": 1087,
     "status": "ok",
     "timestamp": 1600925917498,
     "user": {
      "displayName": "yutaka minowa",
      "photoUrl": "",
      "userId": "11202264431687617954"
     },
     "user_tz": -540
    },
    "id": "Dca3-O6-5H7D",
    "outputId": "2ff085fb-eac7-4bf7-9001-e4863bfe8b97"
   },
   "outputs": [
    {
     "data": {
      "text/html": [
       "<div>\n",
       "<style scoped>\n",
       "    .dataframe tbody tr th:only-of-type {\n",
       "        vertical-align: middle;\n",
       "    }\n",
       "\n",
       "    .dataframe tbody tr th {\n",
       "        vertical-align: top;\n",
       "    }\n",
       "\n",
       "    .dataframe thead th {\n",
       "        text-align: right;\n",
       "    }\n",
       "</style>\n",
       "<table border=\"1\" class=\"dataframe\">\n",
       "  <thead>\n",
       "    <tr style=\"text-align: right;\">\n",
       "      <th></th>\n",
       "      <th>index</th>\n",
       "      <th>id</th>\n",
       "      <th>sequence</th>\n",
       "      <th>structure</th>\n",
       "      <th>predicted_loop_type</th>\n",
       "      <th>signal_to_noise</th>\n",
       "      <th>SN_filter</th>\n",
       "      <th>seq_length</th>\n",
       "      <th>seq_scored</th>\n",
       "      <th>reactivity_error</th>\n",
       "      <th>deg_error_Mg_pH10</th>\n",
       "      <th>deg_error_pH10</th>\n",
       "      <th>deg_error_Mg_50C</th>\n",
       "      <th>deg_error_50C</th>\n",
       "      <th>reactivity</th>\n",
       "      <th>deg_Mg_pH10</th>\n",
       "      <th>deg_pH10</th>\n",
       "      <th>deg_Mg_50C</th>\n",
       "      <th>deg_50C</th>\n",
       "      <th>base_pairs</th>\n",
       "      <th>chemical_bonds</th>\n",
       "      <th>bpps_sum</th>\n",
       "      <th>bpps_max</th>\n",
       "      <th>bpps_nb</th>\n",
       "      <th>number_bonds_weak</th>\n",
       "      <th>number_bonds_normal</th>\n",
       "      <th>number_bonds_strong</th>\n",
       "    </tr>\n",
       "  </thead>\n",
       "  <tbody>\n",
       "    <tr>\n",
       "      <th>0</th>\n",
       "      <td>0</td>\n",
       "      <td>id_001f94081</td>\n",
       "      <td>GGAAAAGCUCUAAUAACAGGAGACUAGGACUACGUAUUUCUAGGUA...</td>\n",
       "      <td>.....((((((.......)))).)).((.....((..((((((......</td>\n",
       "      <td>EEEEESSSSSSHHHHHHHSSSSBSSXSSIIIIISSIISSSSSSHHH...</td>\n",
       "      <td>6.894</td>\n",
       "      <td>1</td>\n",
       "      <td>107</td>\n",
       "      <td>68</td>\n",
       "      <td>[0.1359, 0.20700000000000002, 0.1633, 0.1452, ...</td>\n",
       "      <td>[0.26130000000000003, 0.38420000000000004, 0.1...</td>\n",
       "      <td>[0.2631, 0.28600000000000003, 0.0964, 0.1574, ...</td>\n",
       "      <td>[0.1501, 0.275, 0.0947, 0.18660000000000002, 0...</td>\n",
       "      <td>[0.2167, 0.34750000000000003, 0.188, 0.2124, 0...</td>\n",
       "      <td>[0.3297, 1.5693000000000001, 1.1227, 0.8686, 0...</td>\n",
       "      <td>[0.7556, 2.983, 0.2526, 1.3789, 0.637600000000...</td>\n",
       "      <td>[2.3375, 3.5060000000000002, 0.3008, 1.0108, 0...</td>\n",
       "      <td>[0.35810000000000003, 2.9683, 0.2589, 1.4552, ...</td>\n",
       "      <td>[0.6382, 3.4773, 0.9988, 1.3228, 0.78770000000...</td>\n",
       "      <td>[0, 0, 0, 0, 0, A-U, G-C, C-G, U-A, C-G, U-G, ...</td>\n",
       "      <td>[0.0, 0.0, 0.0, 0.0, 0.0, 1.0, 1.0, 2.0, 2.0, ...</td>\n",
       "      <td>[0.19854229, 0.18371220000000002, 0.0600024000...</td>\n",
       "      <td>[0.0217857, 0.0386527, 0.0275904, 0.00947066, ...</td>\n",
       "      <td>[2.0659663786252436, 1.2272143577570933, -0.34...</td>\n",
       "      <td>[0.28, 0.2, 0.05, 0.04, 0.03, 0.06, 0.19, 0.13...</td>\n",
       "      <td>[0.0, 0.0, 0.0, 0.0, 0.0, 0.0, 0.2, 0.2, 0.2, ...</td>\n",
       "      <td>[0, 0, 0, 0, 0, 0, 0, 0, 0, 0, 0, 0, 0, 0, 0, ...</td>\n",
       "    </tr>\n",
       "    <tr>\n",
       "      <th>1</th>\n",
       "      <td>1</td>\n",
       "      <td>id_0049f53ba</td>\n",
       "      <td>GGAAAAAGCGCGCGCGGUUAGCGCGCGCUUUUGCGCGCGCUGUACC...</td>\n",
       "      <td>.....(((((((((((((((((((((((....)))))))))).)))...</td>\n",
       "      <td>EEEEESSSSSSSSSSSSSSSSSSSSSSSHHHHSSSSSSSSSSBSSS...</td>\n",
       "      <td>0.193</td>\n",
       "      <td>0</td>\n",
       "      <td>107</td>\n",
       "      <td>68</td>\n",
       "      <td>[2.8272, 2.8272, 2.8272, 4.7343, 2.5676, 2.567...</td>\n",
       "      <td>[73705.3985, 73705.3985, 73705.3985, 73705.398...</td>\n",
       "      <td>[10.1986, 9.2418, 5.0933, 5.0933, 5.0933, 5.09...</td>\n",
       "      <td>[16.6174, 13.868, 8.1968, 8.1968, 8.1968, 8.19...</td>\n",
       "      <td>[15.4857, 7.9596, 13.3957, 5.8777, 5.8777, 5.8...</td>\n",
       "      <td>[0.0, 0.0, 0.0, 2.2965, 0.0, 0.0, 0.0, 0.0, 0....</td>\n",
       "      <td>[0.0, 0.0, 0.0, 0.0, 0.0, 0.0, 0.0, 0.0, 0.0, ...</td>\n",
       "      <td>[4.947, 4.4523, 0.0, 0.0, 0.0, 0.0, 0.0, 0.0, ...</td>\n",
       "      <td>[4.8511, 4.0426, 0.0, 0.0, 0.0, 0.0, 0.0, 0.0,...</td>\n",
       "      <td>[7.6692, 0.0, 10.9561, 0.0, 0.0, 0.0, 0.0, 0.0...</td>\n",
       "      <td>[0, 0, 0, 0, 0, A-U, A-U, G-C, C-G, G-C, C-G, ...</td>\n",
       "      <td>[0.0, 0.0, 0.0, 0.0, 0.0, 4.0, 4.0, 4.0, 4.0, ...</td>\n",
       "      <td>[0.16883627604054915, 0.10675940059456464, 0.0...</td>\n",
       "      <td>[0.11931483477784201, 0.0808186531761711, 0.06...</td>\n",
       "      <td>[0.49330633949746183, 0.49330633949746183, -0....</td>\n",
       "      <td>[0.12, 0.13, 0.05, 0.05, 0.05, 0.04, 0.02, 0.0...</td>\n",
       "      <td>[0.2, 0.0, 0.0, 0.0, 0.0, 0.0, 0.0, 0.0, 0.0, ...</td>\n",
       "      <td>[0, 0, 0, 0, 0, 1, 1, 1, 1, 1, 1, 1, 1, 1, 1, ...</td>\n",
       "    </tr>\n",
       "    <tr>\n",
       "      <th>2</th>\n",
       "      <td>2</td>\n",
       "      <td>id_006f36f57</td>\n",
       "      <td>GGAAAGUGCUCAGAUAAGCUAAGCUCGAAUAGCAAUCGAAUAGAAU...</td>\n",
       "      <td>.....((((.((.....((((.(((.....)))..((((......)...</td>\n",
       "      <td>EEEEESSSSISSIIIIISSSSMSSSHHHHHSSSMMSSSSHHHHHHS...</td>\n",
       "      <td>8.800</td>\n",
       "      <td>1</td>\n",
       "      <td>107</td>\n",
       "      <td>68</td>\n",
       "      <td>[0.0931, 0.13290000000000002, 0.11280000000000...</td>\n",
       "      <td>[0.1365, 0.2237, 0.1812, 0.1333, 0.1148, 0.160...</td>\n",
       "      <td>[0.17020000000000002, 0.178, 0.111, 0.091, 0.0...</td>\n",
       "      <td>[0.1033, 0.1464, 0.1126, 0.09620000000000001, ...</td>\n",
       "      <td>[0.14980000000000002, 0.1761, 0.1517, 0.116700...</td>\n",
       "      <td>[0.44820000000000004, 1.4822, 1.1819, 0.743400...</td>\n",
       "      <td>[0.2504, 1.4021, 0.9804, 0.49670000000000003, ...</td>\n",
       "      <td>[2.243, 2.9361, 1.0553, 0.721, 0.6396000000000...</td>\n",
       "      <td>[0.5163, 1.6823000000000001, 1.0426, 0.7902, 0...</td>\n",
       "      <td>[0.9501000000000001, 1.7974999999999999, 1.499...</td>\n",
       "      <td>[0, 0, 0, 0, 0, G-U, U-A, G-U, C-G, 0, C-G, A-...</td>\n",
       "      <td>[0.0, 0.0, 0.0, 0.0, 0.0, 2.0, 2.0, 2.0, 2.0, ...</td>\n",
       "      <td>[0.06680724164624499, 0.04433748694733778, 0.0...</td>\n",
       "      <td>[0.017340043515196805, 0.00826566577930985, 0....</td>\n",
       "      <td>[2.275654383842281, 2.5901863916678374, 0.8078...</td>\n",
       "      <td>[0.3, 0.33, 0.16, 0.13, 0.15, 0.28, 0.49, 0.17...</td>\n",
       "      <td>[0.0, 0.0, 0.0, 0.0, 0.0, 0.2, 0.2, 0.8, 0.8, ...</td>\n",
       "      <td>[0, 0, 0, 0, 0, 0, 0, 0, 0, 0, 0, 0, 0, 0, 0, ...</td>\n",
       "    </tr>\n",
       "    <tr>\n",
       "      <th>3</th>\n",
       "      <td>3</td>\n",
       "      <td>id_0082d463b</td>\n",
       "      <td>GGAAAAGCGCGCGCGCGCGCGCGAAAAAGCGCGCGCGCGCGCGCGC...</td>\n",
       "      <td>......((((((((((((((((......))))))))))))))))((...</td>\n",
       "      <td>EEEEEESSSSSSSSSSSSSSSSHHHHHHSSSSSSSSSSSSSSSSSS...</td>\n",
       "      <td>0.104</td>\n",
       "      <td>0</td>\n",
       "      <td>107</td>\n",
       "      <td>68</td>\n",
       "      <td>[3.5229, 6.0748, 3.0374, 3.0374, 3.0374, 3.037...</td>\n",
       "      <td>[73705.3985, 73705.3985, 73705.3985, 73705.398...</td>\n",
       "      <td>[11.8007, 12.7566, 5.7733, 5.7733, 5.7733, 5.7...</td>\n",
       "      <td>[121286.7181, 121286.7182, 121286.7181, 121286...</td>\n",
       "      <td>[15.3995, 8.1124, 7.7824, 7.7824, 7.7824, 7.78...</td>\n",
       "      <td>[0.0, 2.2399, 0.0, 0.0, 0.0, 0.0, 0.0, 0.0, 0....</td>\n",
       "      <td>[0.0, -0.5083, 0.0, 0.0, 0.0, 0.0, 0.0, 0.0, 0...</td>\n",
       "      <td>[3.4248, 6.8128, 0.0, 0.0, 0.0, 0.0, 0.0, 0.0,...</td>\n",
       "      <td>[0.0, -0.8365, 0.0, 0.0, 0.0, 0.0, 0.0, 0.0, 0...</td>\n",
       "      <td>[7.6692, -1.3223, 0.0, 0.0, 0.0, 0.0, 0.0, 0.0...</td>\n",
       "      <td>[0, 0, 0, 0, 0, 0, G-C, C-G, G-C, C-G, G-C, C-...</td>\n",
       "      <td>[0.0, 0.0, 0.0, 0.0, 0.0, 0.0, 2.0, 2.0, 2.0, ...</td>\n",
       "      <td>[0.22702912000000003, 0.18439387000000002, 0.0...</td>\n",
       "      <td>[0.0350158, 0.0332295, 0.00272567, 0.0, 0.0, 0...</td>\n",
       "      <td>[0.5981503421059805, 0.9126823499315369, -0.65...</td>\n",
       "      <td>[0.14, 0.17, 0.02, 0.0, 0.0, 0.02, 0.14, 0.1, ...</td>\n",
       "      <td>[0.0, 0.0, 0.0, 0.0, 0.0, 0.0, 0.6, 0.6, 0.6, ...</td>\n",
       "      <td>[0, 0, 0, 0, 0, 0, 0, 0, 0, 0, 0, 0, 0, 0, 0, ...</td>\n",
       "    </tr>\n",
       "    <tr>\n",
       "      <th>4</th>\n",
       "      <td>4</td>\n",
       "      <td>id_0087940f4</td>\n",
       "      <td>GGAAAAUAUAUAAUAUAUUAUAUAAAUAUAUUAUAGAAGUAUAAUA...</td>\n",
       "      <td>.....(((((((.((((((((((((.(((((((((....)))))))...</td>\n",
       "      <td>EEEEESSSSSSSBSSSSSSSSSSSSBSSSSSSSSSHHHHSSSSSSS...</td>\n",
       "      <td>0.423</td>\n",
       "      <td>0</td>\n",
       "      <td>107</td>\n",
       "      <td>68</td>\n",
       "      <td>[1.665, 2.1728, 2.0041, 1.2405, 0.620200000000...</td>\n",
       "      <td>[4.2139, 3.9637000000000002, 3.2467, 2.4716, 1...</td>\n",
       "      <td>[3.0942, 3.015, 2.1212, 2.0552, 0.881500000000...</td>\n",
       "      <td>[2.6717, 2.4818, 1.9919, 2.5484999999999998, 1...</td>\n",
       "      <td>[1.3285, 3.6173, 1.3057, 1.3021, 1.1507, 1.150...</td>\n",
       "      <td>[0.8267, 2.6577, 2.8481, 0.40090000000000003, ...</td>\n",
       "      <td>[2.1058, 3.138, 2.5437000000000003, 1.0932, 0....</td>\n",
       "      <td>[4.7366, 4.6243, 1.2068, 1.1538, 0.0, 0.0, 0.7...</td>\n",
       "      <td>[2.2052, 1.7947000000000002, 0.7457, 3.1233, 0...</td>\n",
       "      <td>[0.0, 5.1198, -0.3551, -0.3518, 0.0, 0.0, 0.0,...</td>\n",
       "      <td>[0, 0, 0, 0, 0, A-U, U-A, A-U, U-A, A-U, U-A, ...</td>\n",
       "      <td>[0.0, 0.0, 0.0, 0.0, 0.0, 2.0, 3.0, 4.0, 4.0, ...</td>\n",
       "      <td>[0.04036075455181073, 0.08021642791992274, 0.0...</td>\n",
       "      <td>[0.02230060114516417, 0.052274223411953764, 0....</td>\n",
       "      <td>[0.5981503421059805, 0.8078383473230181, 0.178...</td>\n",
       "      <td>[0.14, 0.16, 0.1, 0.11, 0.11, 0.11, 0.17, 0.09...</td>\n",
       "      <td>[0.0, 0.0, 0.0, 0.0, 0.0, 0.2, 0.0, 0.0, 0.2, ...</td>\n",
       "      <td>[0, 0, 0, 0, 0, 0, 1, 1, 1, 1, 1, 0, 0, 1, 1, ...</td>\n",
       "    </tr>\n",
       "  </tbody>\n",
       "</table>\n",
       "</div>"
      ],
      "text/plain": [
       "   index  ...                                number_bonds_strong\n",
       "0      0  ...  [0, 0, 0, 0, 0, 0, 0, 0, 0, 0, 0, 0, 0, 0, 0, ...\n",
       "1      1  ...  [0, 0, 0, 0, 0, 1, 1, 1, 1, 1, 1, 1, 1, 1, 1, ...\n",
       "2      2  ...  [0, 0, 0, 0, 0, 0, 0, 0, 0, 0, 0, 0, 0, 0, 0, ...\n",
       "3      3  ...  [0, 0, 0, 0, 0, 0, 0, 0, 0, 0, 0, 0, 0, 0, 0, ...\n",
       "4      4  ...  [0, 0, 0, 0, 0, 0, 1, 1, 1, 1, 1, 0, 0, 1, 1, ...\n",
       "\n",
       "[5 rows x 27 columns]"
      ]
     },
     "execution_count": 9,
     "metadata": {
      "tags": []
     },
     "output_type": "execute_result"
    }
   ],
   "source": [
    "train.head()"
   ]
  },
  {
   "cell_type": "code",
   "execution_count": null,
   "metadata": {
    "colab": {
     "base_uri": "https://localhost:8080/",
     "height": 564
    },
    "executionInfo": {
     "elapsed": 514,
     "status": "ok",
     "timestamp": 1600925917968,
     "user": {
      "displayName": "yutaka minowa",
      "photoUrl": "",
      "userId": "11202264431687617954"
     },
     "user_tz": -540
    },
    "id": "ODXa9xbz5K0P",
    "outputId": "3788fe2c-5235-46b5-ab4c-4970ab0e7391"
   },
   "outputs": [
    {
     "data": {
      "text/html": [
       "<div>\n",
       "<style scoped>\n",
       "    .dataframe tbody tr th:only-of-type {\n",
       "        vertical-align: middle;\n",
       "    }\n",
       "\n",
       "    .dataframe tbody tr th {\n",
       "        vertical-align: top;\n",
       "    }\n",
       "\n",
       "    .dataframe thead th {\n",
       "        text-align: right;\n",
       "    }\n",
       "</style>\n",
       "<table border=\"1\" class=\"dataframe\">\n",
       "  <thead>\n",
       "    <tr style=\"text-align: right;\">\n",
       "      <th></th>\n",
       "      <th>index</th>\n",
       "      <th>id</th>\n",
       "      <th>sequence</th>\n",
       "      <th>structure</th>\n",
       "      <th>predicted_loop_type</th>\n",
       "      <th>seq_length</th>\n",
       "      <th>seq_scored</th>\n",
       "      <th>base_pairs</th>\n",
       "      <th>chemical_bonds</th>\n",
       "      <th>bpps_sum</th>\n",
       "      <th>bpps_max</th>\n",
       "      <th>bpps_nb</th>\n",
       "      <th>number_bonds_weak</th>\n",
       "      <th>number_bonds_normal</th>\n",
       "      <th>number_bonds_strong</th>\n",
       "    </tr>\n",
       "  </thead>\n",
       "  <tbody>\n",
       "    <tr>\n",
       "      <th>0</th>\n",
       "      <td>0</td>\n",
       "      <td>id_00073f8be</td>\n",
       "      <td>GGAAAAGUACGACUUGAGUACGGAAAACGUACCAACUCGAUUAAAA...</td>\n",
       "      <td>......((((((((((.(((((.....))))))))((((((((......</td>\n",
       "      <td>EEEEEESSSSSSSSSSBSSSSSHHHHHSSSSSSSSSSSSSSSSHHH...</td>\n",
       "      <td>107</td>\n",
       "      <td>68</td>\n",
       "      <td>[0, 0, 0, 0, 0, 0, G-C, U-A, A-U, C-G, G-C, A-...</td>\n",
       "      <td>[0.0, 0.0, 0.0, 0.0, 0.0, 0.0, 2.0, 2.0, 2.0, ...</td>\n",
       "      <td>[0.03701574756330438, 0.012454753930743238, 0....</td>\n",
       "      <td>[0.007221606518561295, 0.002257620678109476, 0...</td>\n",
       "      <td>[0.9126823499315369, 1.2272143577570933, 0.178...</td>\n",
       "      <td>[0.17, 0.2, 0.1, 0.07, 0.07, 0.08, 0.17, 0.37,...</td>\n",
       "      <td>[0.0, 0.0, 0.0, 0.0, 0.0, 0.0, 0.2, 0.2, 0.2, ...</td>\n",
       "      <td>[0, 0, 0, 0, 0, 0, 0, 0, 0, 1, 1, 1, 1, 0, 1, ...</td>\n",
       "    </tr>\n",
       "    <tr>\n",
       "      <th>1</th>\n",
       "      <td>1</td>\n",
       "      <td>id_000ae4237</td>\n",
       "      <td>GGAAACGGGUUCCGCGGAUUGCUGCUAAUAAGAGUAAUCUCUAAAU...</td>\n",
       "      <td>.....((((..((((((...(((((.....((((....)))).......</td>\n",
       "      <td>EEEEESSSSIISSSSSSIIISSSSSIIIIISSSSHHHHSSSSIIII...</td>\n",
       "      <td>130</td>\n",
       "      <td>91</td>\n",
       "      <td>[0, 0, 0, 0, 0, C-G, G-C, G-C, G-C, 0, 0, C-G,...</td>\n",
       "      <td>[0.0, 0.0, 0.0, 0.0, 0.0, 3.0, 3.0, 3.0, 3.0, ...</td>\n",
       "      <td>[0.2304712272461556, 0.23820549694391135, 0.20...</td>\n",
       "      <td>[0.193407103672755, 0.19773924317365849, 0.195...</td>\n",
       "      <td>[0.3384598125679572, 0.5973438497782229, -0.26...</td>\n",
       "      <td>[0.13, 0.16, 0.06, 0.04, 0.03, 0.1, 0.13, 0.16...</td>\n",
       "      <td>[0.2, 0.2, 0.2, 0.2, 0.0, 0.0, 0.0, 0.0, 0.0, ...</td>\n",
       "      <td>[0, 0, 0, 0, 0, 1, 1, 1, 1, 0, 0, 1, 1, 1, 1, ...</td>\n",
       "    </tr>\n",
       "    <tr>\n",
       "      <th>2</th>\n",
       "      <td>2</td>\n",
       "      <td>id_00131c573</td>\n",
       "      <td>GGAAAACAAAACGGCCUGGAAGACGAAGGAAUUCGGCGCGAAGGCC...</td>\n",
       "      <td>...........((.(((.(.(..((..((..((((...))))..))...</td>\n",
       "      <td>EEEEEEEEEEESSISSSISISIISSIISSIISSSSHHHSSSSIISS...</td>\n",
       "      <td>107</td>\n",
       "      <td>68</td>\n",
       "      <td>[0, 0, 0, 0, 0, 0, 0, 0, 0, 0, 0, C-G, G-C, 0,...</td>\n",
       "      <td>[0.0, 0.0, 0.0, 0.0, 0.0, 0.0, 0.0, 0.0, 0.0, ...</td>\n",
       "      <td>[0.07493084, 0.02550902, 0.0, 0.00150035, 0.00...</td>\n",
       "      <td>[0.0294548, 0.00763603, 0.0, 0.00150035, 0.001...</td>\n",
       "      <td>[0.388462336888943, -0.030913673545132192, -0....</td>\n",
       "      <td>[0.12, 0.08, 0.0, 0.01, 0.01, 0.02, 0.13, 0.0,...</td>\n",
       "      <td>[0.0, 0.0, 0.0, 0.0, 0.0, 0.0, 0.0, 0.0, 0.0, ...</td>\n",
       "      <td>[0, 0, 0, 0, 0, 0, 0, 0, 0, 0, 0, 0, 1, 1, 1, ...</td>\n",
       "    </tr>\n",
       "    <tr>\n",
       "      <th>3</th>\n",
       "      <td>3</td>\n",
       "      <td>id_00181fd34</td>\n",
       "      <td>GGAAAGGAUCUCUAUCGAAGGAUAGAGAUCGCUCGCGACGGCACGA...</td>\n",
       "      <td>......((((((((((....))))))))))((((((..((.(((.....</td>\n",
       "      <td>EEEEEESSSSSSSSSSHHHHSSSSSSSSSSSSSSSSIISSISSSHH...</td>\n",
       "      <td>107</td>\n",
       "      <td>68</td>\n",
       "      <td>[0, 0, 0, 0, 0, 0, G-C, A-U, U-A, C-G, U-A, C-...</td>\n",
       "      <td>[0.0, 0.0, 0.0, 0.0, 0.0, 0.0, 4.0, 4.0, 4.0, ...</td>\n",
       "      <td>[0.15362639758779065, 0.2281113621902515, 0.12...</td>\n",
       "      <td>[0.06724628826674545, 0.12075529229189887, 0.1...</td>\n",
       "      <td>[0.388462336888943, 0.2836183342804242, -0.555...</td>\n",
       "      <td>[0.12, 0.1, 0.02, 0.02, 0.02, 0.14, 0.06, 0.0,...</td>\n",
       "      <td>[0.0, 0.2, 0.2, 0.0, 0.0, 0.0, 0.0, 0.0, 0.0, ...</td>\n",
       "      <td>[0, 0, 0, 0, 0, 0, 1, 1, 1, 1, 1, 1, 1, 1, 1, ...</td>\n",
       "    </tr>\n",
       "    <tr>\n",
       "      <th>4</th>\n",
       "      <td>4</td>\n",
       "      <td>id_0020473f7</td>\n",
       "      <td>GGAAACCCGCCCGCGCCCGCCCGCGCUGCUGCCGUGCCUCCUCUCC...</td>\n",
       "      <td>.....(((((((((((((((((((((((((((((((((((((((((...</td>\n",
       "      <td>EEEEESSSSSSSSSSSSSSSSSSSSSSSSSSSSSSSSSSSSSSSSS...</td>\n",
       "      <td>130</td>\n",
       "      <td>91</td>\n",
       "      <td>[0, 0, 0, 0, 0, C-G, C-G, C-G, G-U, C-G, C-G, ...</td>\n",
       "      <td>[0.0, 0.0, 0.0, 0.0, 0.0, 4.0, 4.0, 4.0, 4.0, ...</td>\n",
       "      <td>[0.019419062344993222, 0.005454117834146501, 3...</td>\n",
       "      <td>[0.004852784769972624, 0.001329212597223424, 3...</td>\n",
       "      <td>[-0.17930826185257406, -0.17930826185257406, -...</td>\n",
       "      <td>[0.08, 0.08, 0.01, 0.01, 0.01, 0.04, 0.02, 0.0...</td>\n",
       "      <td>[0.0, 0.0, 0.0, 0.0, 0.0, 0.0, 0.0, 0.0, 0.0, ...</td>\n",
       "      <td>[0, 0, 0, 0, 0, 1, 1, 1, 1, 1, 1, 1, 1, 1, 1, ...</td>\n",
       "    </tr>\n",
       "  </tbody>\n",
       "</table>\n",
       "</div>"
      ],
      "text/plain": [
       "   index  ...                                number_bonds_strong\n",
       "0      0  ...  [0, 0, 0, 0, 0, 0, 0, 0, 0, 1, 1, 1, 1, 0, 1, ...\n",
       "1      1  ...  [0, 0, 0, 0, 0, 1, 1, 1, 1, 0, 0, 1, 1, 1, 1, ...\n",
       "2      2  ...  [0, 0, 0, 0, 0, 0, 0, 0, 0, 0, 0, 0, 1, 1, 1, ...\n",
       "3      3  ...  [0, 0, 0, 0, 0, 0, 1, 1, 1, 1, 1, 1, 1, 1, 1, ...\n",
       "4      4  ...  [0, 0, 0, 0, 0, 1, 1, 1, 1, 1, 1, 1, 1, 1, 1, ...\n",
       "\n",
       "[5 rows x 15 columns]"
      ]
     },
     "execution_count": 10,
     "metadata": {
      "tags": []
     },
     "output_type": "execute_result"
    }
   ],
   "source": [
    "test.head()"
   ]
  },
  {
   "cell_type": "code",
   "execution_count": null,
   "metadata": {
    "id": "77Vao1vx5b9H"
   },
   "outputs": [],
   "source": [
    "train.to_json(data_dir + '/kaggle/input/stanford-covid-vaccine/train_new.json', orient='records', lines=True)\n",
    "test.to_json(data_dir + '/kaggle/input/stanford-covid-vaccine/test_new.json', orient='records', lines=True)"
   ]
  },
  {
   "cell_type": "code",
   "execution_count": null,
   "metadata": {
    "id": "JDkcdzJP5O1c"
   },
   "outputs": [],
   "source": [
    "train_ = pd.read_json(data_dir + '/kaggle/input/stanford-covid-vaccine/train_new.json', lines=True)\n",
    "test_ = pd.read_json(data_dir + '/kaggle/input/stanford-covid-vaccine/test_new.json', lines=True)"
   ]
  },
  {
   "cell_type": "code",
   "execution_count": null,
   "metadata": {
    "id": "RBDEe_tz1FeW"
   },
   "outputs": [],
   "source": []
  },
  {
   "cell_type": "markdown",
   "metadata": {
    "id": "Z39tZhBD1LC5"
   },
   "source": [
    "## 新しいjsonファイルの作成"
   ]
  },
  {
   "cell_type": "code",
   "execution_count": 45,
   "metadata": {
    "executionInfo": {
     "elapsed": 847,
     "status": "ok",
     "timestamp": 1601736675730,
     "user": {
      "displayName": "yutaka minowa",
      "photoUrl": "",
      "userId": "11202264431687617954"
     },
     "user_tz": -540
    },
    "id": "L1NEbd6v1Coa"
   },
   "outputs": [],
   "source": [
    "sub = pd.read_csv(data_dir + \"/kaggle/input/stanford-covid-vaccine/sample_submission.csv\")"
   ]
  },
  {
   "cell_type": "code",
   "execution_count": 46,
   "metadata": {
    "executionInfo": {
     "elapsed": 4155,
     "status": "ok",
     "timestamp": 1601736679403,
     "user": {
      "displayName": "yutaka minowa",
      "photoUrl": "",
      "userId": "11202264431687617954"
     },
     "user_tz": -540
    },
    "id": "Esf_Ux1T1JvV"
   },
   "outputs": [],
   "source": [
    "train_aug = pd.read_json(data_dir + \"/kaggle/input/stanford-covid-vaccine/train_aug.json\",lines=True)\n",
    "train_gnn = pd.read_json(data_dir + \"/kaggle/input/stanford-covid-vaccine/train_gnn.json\",lines=True)"
   ]
  },
  {
   "cell_type": "code",
   "execution_count": 47,
   "metadata": {
    "executionInfo": {
     "elapsed": 1862,
     "status": "ok",
     "timestamp": 1601736679795,
     "user": {
      "displayName": "yutaka minowa",
      "photoUrl": "",
      "userId": "11202264431687617954"
     },
     "user_tz": -540
    },
    "id": "00Wv2Igv1kgZ"
   },
   "outputs": [],
   "source": [
    "train_targets = np.array(train_aug[targets].values.tolist().copy())/2 + np.array(train_gnn[targets].values.tolist().copy())/2\n",
    "train_targets = train_targets.transpose(0,2,1)"
   ]
  },
  {
   "cell_type": "code",
   "execution_count": 48,
   "metadata": {
    "executionInfo": {
     "elapsed": 2263,
     "status": "ok",
     "timestamp": 1601736684069,
     "user": {
      "displayName": "yutaka minowa",
      "photoUrl": "",
      "userId": "11202264431687617954"
     },
     "user_tz": -540
    },
    "id": "meS1aGBb1nJh"
   },
   "outputs": [],
   "source": [
    "for i, target in enumerate(targets):\n",
    "    train_aug[target] = train_targets[:,:,i].tolist()\n",
    "train_aug.to_json(data_dir + '/kaggle/input/stanford-covid-vaccine/train_mix.json', orient='records', lines=True)"
   ]
  },
  {
   "cell_type": "code",
   "execution_count": 44,
   "metadata": {
    "executionInfo": {
     "elapsed": 1340,
     "status": "ok",
     "timestamp": 1601736667216,
     "user": {
      "displayName": "yutaka minowa",
      "photoUrl": "",
      "userId": "11202264431687617954"
     },
     "user_tz": -540
    },
    "id": "tmFdjoRe8WHA"
   },
   "outputs": [],
   "source": []
  }
 ],
 "metadata": {
  "colab": {
   "authorship_tag": "ABX9TyMMVCf1Ej0CthOUMEcVe4nw",
   "collapsed_sections": [],
   "name": "01 feature_generation.ipynb",
   "provenance": []
  },
  "kernelspec": {
   "display_name": "Python 3",
   "language": "python",
   "name": "python3"
  },
  "language_info": {
   "codemirror_mode": {
    "name": "ipython",
    "version": 3
   },
   "file_extension": ".py",
   "mimetype": "text/x-python",
   "name": "python",
   "nbconvert_exporter": "python",
   "pygments_lexer": "ipython3",
   "version": "3.7.7"
  }
 },
 "nbformat": 4,
 "nbformat_minor": 1
}

{
 "cells": [
  {
   "cell_type": "code",
   "execution_count": null,
   "metadata": {
    "id": "2wTmMMkJjIL6"
   },
   "outputs": [],
   "source": [
    "from google.colab import drive\n",
    "drive.mount('/content/drive')\n",
    "\n",
    "data_dir = 'drive/My Drive'"
   ]
  },
  {
   "cell_type": "markdown",
   "metadata": {
    "id": "5-xhycSij2Pb"
   },
   "source": [
    "# 参考\n",
    "\n",
    "https://www.kaggle.com/xhlulu/covid-vaccine-simple-gru-model/comments\n",
    "\n",
    "https://www.kaggle.com/tuckerarrants/openvaccine-gru-lstm"
   ]
  },
  {
   "cell_type": "code",
   "execution_count": null,
   "metadata": {
    "id": "jBj1Oevaj4a3"
   },
   "outputs": [],
   "source": [
    "import warnings\n",
    "import os\n",
    "import json\n",
    "warnings.filterwarnings('ignore')\n",
    "\n",
    "#the basics\n",
    "import pandas as pd, numpy as np, seaborn as sns\n",
    "import math, json, os, random\n",
    "from matplotlib import pyplot as plt\n",
    "from tqdm import tqdm\n",
    "import glob\n",
    "\n",
    "#tensorflow basics\n",
    "import tensorflow as tf\n",
    "import tensorflow_addons as tfa\n",
    "import keras.backend as K\n",
    "import tensorflow.keras.layers as L\n",
    "from sklearn.cluster import KMeans\n",
    "\n",
    "\n",
    "#for model evaluation\n",
    "from sklearn.model_selection import train_test_split, StratifiedKFold, RepeatedStratifiedKFold, ShuffleSplit, KFold, GroupKFold"
   ]
  },
  {
   "cell_type": "code",
   "execution_count": null,
   "metadata": {
    "id": "i47xiSc0_SN9"
   },
   "outputs": [],
   "source": [
    "def seed_everything(seed = 34):\n",
    "    os.environ['PYTHONHASHSEED']=str(seed)\n",
    "    tf.random.set_seed(seed)\n",
    "    np.random.seed(seed)\n",
    "    random.seed(seed)\n",
    "    \n",
    "seed_everything()"
   ]
  },
  {
   "cell_type": "markdown",
   "metadata": {
    "id": "u4VuwHAbCT_b"
   },
   "source": [
    "## Dataload"
   ]
  },
  {
   "cell_type": "code",
   "execution_count": null,
   "metadata": {
    "id": "mWw36MNmm7me"
   },
   "outputs": [],
   "source": [
    "train = pd.read_json(data_dir + '/kaggle/input/stanford-covid-vaccine/train.json', lines=True)\n",
    "test = pd.read_json(data_dir + '/kaggle/input/stanford-covid-vaccine/test.json', lines=True)\n",
    "sample_sub = pd.read_csv(data_dir + '/kaggle/input/stanford-covid-vaccine/sample_submission.csv')\n",
    "\n",
    "train = pd.read_json(data_dir + '/kaggle/input/stanford-covid-vaccine/train_new.json', lines=True)\n",
    "test = pd.read_json(data_dir + '/kaggle/input/stanford-covid-vaccine/test_new.json', lines=True)\n",
    "sample_sub = pd.read_csv(data_dir + '/kaggle/input/stanford-covid-vaccine/sample_submission.csv')"
   ]
  },
  {
   "cell_type": "markdown",
   "metadata": {
    "id": "MG1XMkVgCXg0"
   },
   "source": [
    "## Model定義"
   ]
  },
  {
   "cell_type": "code",
   "execution_count": null,
   "metadata": {
    "id": "kIJcG75lrz3M"
   },
   "outputs": [],
   "source": [
    "#target columns\n",
    "target_cols = ['reactivity', 'deg_Mg_pH10', 'deg_pH10', 'deg_Mg_50C', 'deg_50C']\n",
    "\n",
    "def rmse(y_actual, y_pred):\n",
    "    mse = tf.keras.losses.mean_squared_error(y_actual, y_pred)\n",
    "    return K.sqrt(mse)\n",
    "\n",
    "def mcrmse(y_actual, y_pred, num_scored=len(target_cols)):\n",
    "    score = 0\n",
    "    for i in range(num_scored):\n",
    "        score += rmse(y_actual[:, :, i], y_pred[:, :, i]) / num_scored\n",
    "    return score\n",
    "\n",
    "def gru_layer(hidden_dim, dropout):\n",
    "    return tf.keras.layers.Bidirectional(\n",
    "                                tf.keras.layers.GRU(hidden_dim,\n",
    "                                dropout=dropout,\n",
    "                                return_sequences=True,\n",
    "                                kernel_initializer='orthogonal'))\n",
    "\n",
    "def lstm_layer(hidden_dim, dropout):\n",
    "    return tf.keras.layers.Bidirectional(\n",
    "                                tf.keras.layers.LSTM(hidden_dim,\n",
    "                                dropout=dropout,\n",
    "                                return_sequences=True,\n",
    "                                kernel_initializer='orthogonal'))"
   ]
  },
  {
   "cell_type": "code",
   "execution_count": null,
   "metadata": {
    "id": "wBvCqVezFb2W"
   },
   "outputs": [],
   "source": [
    "def build_model(seq_len=107, pred_len=68, dropout=0.5, embed_dim=100, hidden_dim=256, type=0, feature_size=3):\n",
    "    inputs = L.Input(shape=(seq_len, feature_size))\n",
    "    \n",
    "    # split categorical and numerical features and concatenate them later.\n",
    "    categorical_feat_dim = 5\n",
    "    categorical_fea = inputs[:, :, :categorical_feat_dim]\n",
    "    numerical_fea  = inputs[:, :, categorical_feat_dim:]\n",
    "\n",
    "    embed = L.Embedding(input_dim=25, output_dim=embed_dim)(categorical_fea)\n",
    "    reshaped = tf.reshape(embed, shape=(-1, embed.shape[1],  embed.shape[2] * embed.shape[3]))\n",
    "    reshaped = L.concatenate([reshaped, numerical_fea], axis=2)\n",
    "    \n",
    "    if type == 0:\n",
    "        hidden = gru_layer(hidden_dim, dropout)(reshaped)\n",
    "        hidden = gru_layer(hidden_dim, dropout)(hidden)\n",
    "    elif type == 1:\n",
    "        hidden = lstm_layer(hidden_dim, dropout)(reshaped)\n",
    "        hidden = gru_layer(hidden_dim, dropout)(hidden)\n",
    "    elif type == 2:\n",
    "        hidden = gru_layer(hidden_dim, dropout)(reshaped)\n",
    "        hidden = lstm_layer(hidden_dim, dropout)(hidden)\n",
    "    elif type == 3:\n",
    "        hidden = lstm_layer(hidden_dim, dropout)(reshaped)\n",
    "        hidden = lstm_layer(hidden_dim, dropout)(hidden)\n",
    "    \n",
    "    truncated = hidden[:, :pred_len]\n",
    "    out = L.Dense(5, activation='linear')(truncated)\n",
    "    model = tf.keras.Model(inputs=inputs, outputs=out)\n",
    "    model.compile(tf.keras.optimizers.Adam(), loss=mcrmse)\n",
    "    return model"
   ]
  },
  {
   "cell_type": "markdown",
   "metadata": {
    "id": "pxB9Q3xEsKDa"
   },
   "source": [
    "## 前処理"
   ]
  },
  {
   "cell_type": "code",
   "execution_count": null,
   "metadata": {
    "id": "MbMKD3vpsFJf"
   },
   "outputs": [],
   "source": [
    "token2int = {x:i for i, x in enumerate(['(', ')', '.', 'A', 'C', 'G', 'U', 'B', 'E', 'H', 'I', 'M', 'S', 'X','0','C-G','G-C','A-U','U-A','U-G','G-U',\n",
    "                                        'chemical_bonds',\n",
    "                                        'number_bonds_weak',\n",
    "                                        'number_bonds_normal',\n",
    "                                        'number_bonds_strong',\n",
    "                                        'bpps_sum',\n",
    "                                        'bpps_max',\n",
    "                                        'bpps_nb',\n",
    "                                        ])}\n",
    "\n",
    "def preprocess_inputs(df, cols=['sequence',\n",
    "                                'structure',\n",
    "                                'predicted_loop_type',\n",
    "                                'base_pairs',\n",
    "                                'chemical_bonds',\n",
    "                                'number_bonds_weak',\n",
    "                                'number_bonds_normal',\n",
    "                                'number_bonds_strong',\n",
    "                                'bpps_sum',\n",
    "                                'bpps_max',\n",
    "                                'bpps_nb',\n",
    "                               ]):\n",
    "    data = np.empty((df.shape[0], df['seq_length'].iloc[0], 0))    \n",
    "    for col in cols:\n",
    "        if col == 'sequence':\n",
    "            data = np.append(data, np.transpose(np.array(df[[col]].applymap(lambda seq: [token2int[x] for x in seq]).values.tolist()),(0, 2, 1)),axis=2)\n",
    "        elif col == 'structure':\n",
    "            data = np.append(data, np.transpose(np.array(df[[col]].applymap(lambda seq: [token2int[x] for x in seq]).values.tolist()),(0, 2, 1)),axis=2)\n",
    "        elif col == 'predicted_loop_type':\n",
    "            data = np.append(data, np.transpose(np.array(df[[col]].applymap(lambda seq: [token2int[x] for x in seq]).values.tolist()),(0, 2, 1)),axis=2)\n",
    "        elif col == 'base_pairs':\n",
    "            data = np.append(data, np.transpose(np.array(df[[col]].applymap(lambda seq: [token2int[x] for x in seq]).values.tolist()),(0, 2, 1)),axis=2)\n",
    "        else:\n",
    "            data = np.append(data, np.expand_dims(np.array(df[col].tolist()),2),axis=2)\n",
    "    return data"
   ]
  },
  {
   "cell_type": "code",
   "execution_count": null,
   "metadata": {
    "id": "sgJKBNOWl_vN"
   },
   "outputs": [],
   "source": [
    "train_inputs = preprocess_inputs(train[train.signal_to_noise > 1])\n",
    "train_labels = np.array(train[train.signal_to_noise > 1][target_cols].values.tolist()).transpose((0, 2, 1))\n",
    "\n",
    "public_df = test.query(\"seq_length == 107\").copy()\n",
    "private_df = test.query(\"seq_length == 130\").copy()\n",
    "\n",
    "public_inputs = preprocess_inputs(public_df)\n",
    "private_inputs = preprocess_inputs(private_df)"
   ]
  },
  {
   "cell_type": "markdown",
   "metadata": {
    "id": "k-i38dT4EDLd"
   },
   "source": [
    "## Train Model定義"
   ]
  },
  {
   "cell_type": "code",
   "execution_count": null,
   "metadata": {
    "colab": {
     "base_uri": "https://localhost:8080/",
     "height": 510
    },
    "executionInfo": {
     "elapsed": 4608,
     "status": "ok",
     "timestamp": 1600916987247,
     "user": {
      "displayName": "yutaka minowa",
      "photoUrl": "",
      "userId": "11202264431687617954"
     },
     "user_tz": -540
    },
    "id": "QQuqXdsKkuih",
    "outputId": "a0a9098d-fc5d-4cfd-8155-e4dcc427d16d"
   },
   "outputs": [
    {
     "name": "stdout",
     "output_type": "stream",
     "text": [
      "Model: \"functional_1\"\n",
      "__________________________________________________________________________________________________\n",
      "Layer (type)                    Output Shape         Param #     Connected to                     \n",
      "==================================================================================================\n",
      "input_1 (InputLayer)            [(None, 107, 11)]    0                                            \n",
      "__________________________________________________________________________________________________\n",
      "tf_op_layer_strided_slice (Tens [(None, 107, 5)]     0           input_1[0][0]                    \n",
      "__________________________________________________________________________________________________\n",
      "embedding (Embedding)           (None, 107, 5, 100)  2500        tf_op_layer_strided_slice[0][0]  \n",
      "__________________________________________________________________________________________________\n",
      "tf_op_layer_Reshape (TensorFlow [(None, 107, 500)]   0           embedding[0][0]                  \n",
      "__________________________________________________________________________________________________\n",
      "tf_op_layer_strided_slice_1 (Te [(None, 107, 6)]     0           input_1[0][0]                    \n",
      "__________________________________________________________________________________________________\n",
      "concatenate (Concatenate)       (None, 107, 506)     0           tf_op_layer_Reshape[0][0]        \n",
      "                                                                 tf_op_layer_strided_slice_1[0][0]\n",
      "__________________________________________________________________________________________________\n",
      "bidirectional (Bidirectional)   (None, 107, 512)     1173504     concatenate[0][0]                \n",
      "__________________________________________________________________________________________________\n",
      "bidirectional_1 (Bidirectional) (None, 107, 512)     1182720     bidirectional[0][0]              \n",
      "__________________________________________________________________________________________________\n",
      "tf_op_layer_strided_slice_2 (Te [(None, 68, 512)]    0           bidirectional_1[0][0]            \n",
      "__________________________________________________________________________________________________\n",
      "dense (Dense)                   (None, 68, 5)        2565        tf_op_layer_strided_slice_2[0][0]\n",
      "==================================================================================================\n",
      "Total params: 2,361,289\n",
      "Trainable params: 2,361,289\n",
      "Non-trainable params: 0\n",
      "__________________________________________________________________________________________________\n"
     ]
    }
   ],
   "source": [
    "model = build_model(feature_size = train_inputs.shape[2])\n",
    "model.summary()"
   ]
  },
  {
   "cell_type": "code",
   "execution_count": null,
   "metadata": {
    "id": "iJTx0T3A-PfR"
   },
   "outputs": [],
   "source": [
    "#basic training configuration\n",
    "FOLDS = 8\n",
    "EPOCHS = 100\n",
    "BATCH_SIZE = 64\n",
    "VERBOSE = 0\n",
    "\n",
    "lr_callback = tf.keras.callbacks.ReduceLROnPlateau()"
   ]
  },
  {
   "cell_type": "markdown",
   "metadata": {
    "id": "T6MeLx7XEKCI"
   },
   "source": [
    "## GRU"
   ]
  },
  {
   "cell_type": "code",
   "execution_count": null,
   "metadata": {
    "colab": {
     "base_uri": "https://localhost:8080/",
     "height": 153
    },
    "executionInfo": {
     "elapsed": 32,
     "status": "ok",
     "timestamp": 1600918931043,
     "user": {
      "displayName": "yutaka minowa",
      "photoUrl": "",
      "userId": "11202264431687617954"
     },
     "user_tz": -540
    },
    "id": "7FImOqQJkv3q",
    "outputId": "e1b8f963-1aa6-4407-851b-0f3b61c439c4"
   },
   "outputs": [
    {
     "name": "stdout",
     "output_type": "stream",
     "text": [
      "0-GRU fold MCRMSE　: 0.2137458622455597\n",
      "1-GRU fold MCRMSE　: 0.21080580353736877\n",
      "2-GRU fold MCRMSE　: 0.21063357591629028\n",
      "3-GRU fold MCRMSE　: 0.21219947934150696\n",
      "4-GRU fold MCRMSE　: 0.2174091637134552\n",
      "5-GRU fold MCRMSE　: 0.21817544102668762\n",
      "6-GRU fold MCRMSE　: 0.21666592359542847\n",
      "7-GRU fold MCRMSE　: 0.21008449792861938\n"
     ]
    }
   ],
   "source": [
    "gru_histories = []\n",
    "gru_private_preds = np.zeros((private_df.shape[0], 130, 5))\n",
    "gru_public_preds = np.zeros((public_df.shape[0], 107, 5))\n",
    "\n",
    "ssf = ShuffleSplit(n_splits=FOLDS, test_size=0.1)\n",
    "\n",
    "for f, (train_index, val_index) in enumerate(ssf.split(train_inputs)):\n",
    "\n",
    "    sv_gru = tf.keras.callbacks.ModelCheckpoint(f'gru-{f}.h5')\n",
    "\n",
    "    train_ = train_inputs[train_index]\n",
    "    train_labs = train_labels[train_index]\n",
    "    val_ = train_inputs[val_index]\n",
    "    val_labs = train_labels[val_index]\n",
    "\n",
    "    gru = build_model(type=0, feature_size = train_inputs.shape[2])\n",
    "    history = gru.fit(train_, train_labs, \n",
    "                      validation_data=(val_,val_labs),\n",
    "                      batch_size=BATCH_SIZE,\n",
    "                      epochs=EPOCHS,\n",
    "                      callbacks=[lr_callback,sv_gru],\n",
    "                      verbose = VERBOSE)\n",
    "\n",
    "    gru_histories.append(history)\n",
    "\n",
    "    print(f\"{f}-GRU fold MCRMSE　: \" + str(min(history.history['val_loss'])))\n",
    "\n",
    "    #load best model and predict\n",
    "    gru_short = build_model(type=0, seq_len=107, pred_len=107, feature_size = public_inputs.shape[2])\n",
    "    gru_short.load_weights(f'gru-{f}.h5')\n",
    "    gru_public_pred = gru_short.predict(public_inputs) / FOLDS\n",
    "\n",
    "    gru_long = build_model(type=0, seq_len=130, pred_len=130, feature_size = private_inputs.shape[2])\n",
    "    gru_long.load_weights(f'gru-{f}.h5')\n",
    "    gru_private_pred = gru_long.predict(private_inputs) / FOLDS\n",
    "\n",
    "    gru_public_preds += gru_public_pred\n",
    "    gru_private_preds += gru_private_pred\n",
    "\n",
    "    del gru_short, gru_long"
   ]
  },
  {
   "cell_type": "code",
   "execution_count": null,
   "metadata": {
    "colab": {
     "base_uri": "https://localhost:8080/",
     "height": 34
    },
    "executionInfo": {
     "elapsed": 18,
     "status": "ok",
     "timestamp": 1600918931044,
     "user": {
      "displayName": "yutaka minowa",
      "photoUrl": "",
      "userId": "11202264431687617954"
     },
     "user_tz": -540
    },
    "id": "-xC97d64-xeP",
    "outputId": "2907dc9a-19b7-42f1-efa6-00ca4ffa9ba4"
   },
   "outputs": [
    {
     "name": "stdout",
     "output_type": "stream",
     "text": [
      " GRU mean fold MCRMSE: 0.21371496841311455\n"
     ]
    }
   ],
   "source": [
    "print(f\" GRU mean fold MCRMSE: {np.mean([min(history.history['val_loss']) for history in gru_histories])}\")"
   ]
  },
  {
   "cell_type": "markdown",
   "metadata": {
    "id": "oP6JLVtzENJa"
   },
   "source": [
    "## LSTM"
   ]
  },
  {
   "cell_type": "code",
   "execution_count": null,
   "metadata": {
    "colab": {
     "base_uri": "https://localhost:8080/",
     "height": 153
    },
    "executionInfo": {
     "elapsed": 1633220,
     "status": "ok",
     "timestamp": 1600920564253,
     "user": {
      "displayName": "yutaka minowa",
      "photoUrl": "",
      "userId": "11202264431687617954"
     },
     "user_tz": -540
    },
    "id": "jpyBHx0Ettfc",
    "outputId": "ee641d88-05f8-40a2-ec67-1e7f76c5c8f5"
   },
   "outputs": [
    {
     "name": "stdout",
     "output_type": "stream",
     "text": [
      "0-LSTM fold MCRMSE　: 0.21463526785373688\n",
      "1-LSTM fold MCRMSE　: 0.2058616280555725\n",
      "2-LSTM fold MCRMSE　: 0.21027730405330658\n",
      "3-LSTM fold MCRMSE　: 0.21816036105155945\n",
      "4-LSTM fold MCRMSE　: 0.22507289052009583\n",
      "5-LSTM fold MCRMSE　: 0.21947361528873444\n",
      "6-LSTM fold MCRMSE　: 0.2172839194536209\n",
      "7-LSTM fold MCRMSE　: 0.20695696771144867\n"
     ]
    }
   ],
   "source": [
    "lstm_histories = []\n",
    "lstm_private_preds = np.zeros((private_df.shape[0], 130, 5))\n",
    "lstm_public_preds = np.zeros((public_df.shape[0], 107, 5))\n",
    "\n",
    "ssf = ShuffleSplit(n_splits=FOLDS, test_size=0.1)\n",
    "\n",
    "for f, (train_index, val_index) in enumerate(ssf.split(train_inputs)):\n",
    "\n",
    "    sv_gru = tf.keras.callbacks.ModelCheckpoint(f'lstm-{f}.h5')\n",
    "\n",
    "    train_ = train_inputs[train_index]\n",
    "    train_labs = train_labels[train_index]\n",
    "    val_ = train_inputs[val_index]\n",
    "    val_labs = train_labels[val_index]\n",
    "\n",
    "    lstm = build_model(type=3, feature_size = train_inputs.shape[2])\n",
    "    history = lstm.fit(\n",
    "                        train_, train_labs, \n",
    "                        validation_data=(val_,val_labs),\n",
    "                        batch_size=BATCH_SIZE,\n",
    "                        epochs=EPOCHS,\n",
    "                        callbacks=[lr_callback,sv_gru],\n",
    "                        verbose = VERBOSE)  \n",
    "\n",
    "    lstm_histories.append(history)\n",
    "\n",
    "    print(f\"{f}-LSTM fold MCRMSE　: \" + str(min(history.history['val_loss'])))\n",
    "\n",
    "    #load best model and predict\n",
    "    lstm_short = build_model(type=3, seq_len=107, pred_len=107, feature_size = public_inputs.shape[2])\n",
    "    lstm_short.load_weights(f'lstm-{f}.h5')\n",
    "    lstm_public_pred = lstm_short.predict(public_inputs) / FOLDS\n",
    "\n",
    "    lstm_long = build_model(type=3, seq_len=130, pred_len=130, feature_size = private_inputs.shape[2])\n",
    "    lstm_long.load_weights(f'lstm-{f}.h5')\n",
    "    lstm_private_pred = lstm_long.predict(private_inputs) / FOLDS\n",
    "\n",
    "    lstm_public_preds += lstm_public_pred\n",
    "    lstm_private_preds += lstm_private_pred\n",
    "\n",
    "    del lstm_short, lstm_long"
   ]
  },
  {
   "cell_type": "code",
   "execution_count": null,
   "metadata": {
    "id": "C99mA0A7kzxE"
   },
   "outputs": [],
   "source": [
    "print(f\" LSTM mean fold validation MCRMSE: {np.mean([min(history.history['val_loss']) for history in lstm_histories])}\")"
   ]
  },
  {
   "cell_type": "markdown",
   "metadata": {
    "id": "WepMvHTAPr82"
   },
   "source": [
    "## Mix1"
   ]
  },
  {
   "cell_type": "code",
   "execution_count": null,
   "metadata": {
    "id": "5qex_T19O8uw"
   },
   "outputs": [],
   "source": [
    "mix1_histories = []\n",
    "mix1_private_preds = np.zeros((private_df.shape[0], 130, 5))\n",
    "mix1_public_preds = np.zeros((public_df.shape[0], 107, 5))\n",
    "\n",
    "ssf = ShuffleSplit(n_splits=FOLDS, test_size=0.1)\n",
    "\n",
    "for f, (train_index, val_index) in enumerate(ssf.split(train_inputs)):\n",
    "\n",
    "    sv_mix1 = tf.keras.callbacks.ModelCheckpoint(f'mix1-{f}.h5')\n",
    "\n",
    "    train_ = train_inputs[train_index]\n",
    "    train_labs = train_labels[train_index]\n",
    "    val_ = train_inputs[val_index]\n",
    "    val_labs = train_labels[val_index]\n",
    "\n",
    "    mix1 = build_model(type=1, feature_size = train_inputs.shape[2])\n",
    "    history = mix1.fit(train_, train_labs, \n",
    "                      validation_data=(val_,val_labs),\n",
    "                      batch_size=BATCH_SIZE,\n",
    "                      epochs=EPOCHS,\n",
    "                      callbacks=[lr_callback,sv_mix1],\n",
    "                      verbose = VERBOSE)\n",
    "\n",
    "    mix1_histories.append(history)\n",
    "\n",
    "    print(f\"{f}-mix1 fold MCRMSE　:\" + str(min(history.history['val_loss'])))\n",
    "\n",
    "    #load best model and predict\n",
    "    mix1_short = build_model(type=1, seq_len=107, pred_len=107, feature_size = public_inputs.shape[2])\n",
    "    mix1_short.load_weights(f'mix1-{f}.h5')\n",
    "    mix1_public_pred = mix1_short.predict(public_inputs) / FOLDS\n",
    "\n",
    "    mix1_long = build_model(type=1, seq_len=130, pred_len=130, feature_size = private_inputs.shape[2])\n",
    "    mix1_long.load_weights(f'mix1-{f}.h5')\n",
    "    mix1_private_pred = mix1_long.predict(private_inputs) / FOLDS\n",
    "\n",
    "    mix1_public_preds += mix1_public_pred\n",
    "    mix1_private_preds += mix1_private_pred\n",
    "\n",
    "    del mix1_short, mix1_long"
   ]
  },
  {
   "cell_type": "code",
   "execution_count": null,
   "metadata": {
    "colab": {
     "base_uri": "https://localhost:8080/",
     "height": 34
    },
    "executionInfo": {
     "elapsed": 17,
     "status": "ok",
     "timestamp": 1600922364214,
     "user": {
      "displayName": "yutaka minowa",
      "photoUrl": "",
      "userId": "11202264431687617954"
     },
     "user_tz": -540
    },
    "id": "5WKigoAUPkcY",
    "outputId": "5942d05c-f5bf-49df-ef57-871f50721938"
   },
   "outputs": [
    {
     "name": "stdout",
     "output_type": "stream",
     "text": [
      " Mix1 mean fold validation MCRMSE: 0.21176940388977528\n"
     ]
    }
   ],
   "source": [
    "print(f\" Mix1 mean fold validation MCRMSE: {np.mean([min(history.history['val_loss']) for history in mix1_histories])}\")"
   ]
  },
  {
   "cell_type": "markdown",
   "metadata": {
    "id": "MYB_ZRU0Pu1t"
   },
   "source": [
    "## Mix2"
   ]
  },
  {
   "cell_type": "code",
   "execution_count": null,
   "metadata": {
    "colab": {
     "base_uri": "https://localhost:8080/",
     "height": 153
    },
    "executionInfo": {
     "elapsed": 1784111,
     "status": "ok",
     "timestamp": 1600924148320,
     "user": {
      "displayName": "yutaka minowa",
      "photoUrl": "",
      "userId": "11202264431687617954"
     },
     "user_tz": -540
    },
    "id": "4dkO3DGwPw56",
    "outputId": "01f5bb1e-25b7-4437-a30f-bf5adf68ba7d"
   },
   "outputs": [
    {
     "name": "stdout",
     "output_type": "stream",
     "text": [
      "0-mix2 fold MCRMSE　:0.2057298719882965\n",
      "1-mix2 fold MCRMSE　:0.1953713744878769\n",
      "2-mix2 fold MCRMSE　:0.20925167202949524\n",
      "3-mix2 fold MCRMSE　:0.21995066106319427\n",
      "4-mix2 fold MCRMSE　:0.21303407847881317\n",
      "5-mix2 fold MCRMSE　:0.20860202610492706\n",
      "6-mix2 fold MCRMSE　:0.2053961604833603\n",
      "7-mix2 fold MCRMSE　:0.2129821479320526\n"
     ]
    }
   ],
   "source": [
    "mix2_histories = []\n",
    "mix2_private_preds = np.zeros((private_df.shape[0], 130, 5))\n",
    "mix2_public_preds = np.zeros((public_df.shape[0], 107, 5))\n",
    "\n",
    "ssf = ShuffleSplit(n_splits=FOLDS, test_size=0.1)\n",
    "\n",
    "for f, (train_index, val_index) in enumerate(ssf.split(train_inputs)):\n",
    "\n",
    "    sv_mix2 = tf.keras.callbacks.ModelCheckpoint(f'mix2-{f}.h5')\n",
    "\n",
    "    train_ = train_inputs[train_index]\n",
    "    train_labs = train_labels[train_index]\n",
    "    val_ = train_inputs[val_index]\n",
    "    val_labs = train_labels[val_index]\n",
    "\n",
    "    mix2 = build_model(type=2, feature_size = train_inputs.shape[2])\n",
    "    history = mix2.fit(train_, train_labs, \n",
    "                      validation_data=(val_,val_labs),\n",
    "                      batch_size=BATCH_SIZE,\n",
    "                      epochs=EPOCHS,\n",
    "                      callbacks=[lr_callback,sv_mix2],\n",
    "                      verbose = VERBOSE)\n",
    "\n",
    "    mix2_histories.append(history)\n",
    "\n",
    "    print(f\"{f}-mix2 fold MCRMSE　:\" + str(min(history.history['val_loss'])))\n",
    "\n",
    "    #load best model and predict\n",
    "    mix2_short = build_model(type=2, seq_len=107, pred_len=107, feature_size = public_inputs.shape[2])\n",
    "    mix2_short.load_weights(f'mix2-{f}.h5')\n",
    "    mix2_public_pred = mix2_short.predict(public_inputs) / FOLDS\n",
    "\n",
    "    mix2_long = build_model(type=2, seq_len=130, pred_len=130, feature_size = private_inputs.shape[2])\n",
    "    mix2_long.load_weights(f'mix2-{f}.h5')\n",
    "    mix2_private_pred = mix2_long.predict(private_inputs) / FOLDS\n",
    "\n",
    "    mix2_public_preds += mix2_public_pred\n",
    "    mix2_private_preds += mix2_private_pred\n",
    "\n",
    "    del mix2_short, mix2_long"
   ]
  },
  {
   "cell_type": "code",
   "execution_count": null,
   "metadata": {
    "colab": {
     "base_uri": "https://localhost:8080/",
     "height": 34
    },
    "executionInfo": {
     "elapsed": 18,
     "status": "ok",
     "timestamp": 1600924148323,
     "user": {
      "displayName": "yutaka minowa",
      "photoUrl": "",
      "userId": "11202264431687617954"
     },
     "user_tz": -540
    },
    "id": "_la3TkPSPwOn",
    "outputId": "e47caa26-6028-4e29-cd5e-6288c4161789"
   },
   "outputs": [
    {
     "name": "stdout",
     "output_type": "stream",
     "text": [
      " Mix2 mean fold validation MCRMSE: 0.208789749071002\n"
     ]
    }
   ],
   "source": [
    "print(f\" Mix2 mean fold validation MCRMSE: {np.mean([min(history.history['val_loss']) for history in mix2_histories])}\")"
   ]
  },
  {
   "cell_type": "markdown",
   "metadata": {
    "id": "0OhI7faMEuxy"
   },
   "source": [
    "## Predict"
   ]
  },
  {
   "cell_type": "code",
   "execution_count": null,
   "metadata": {
    "id": "OOVUjelYk0Me"
   },
   "outputs": [],
   "source": [
    "#get different test sets and process each\n",
    "public_df = test.query(\"seq_length == 107\").copy()\n",
    "private_df = test.query(\"seq_length == 130\").copy()\n",
    "\n",
    "public_inputs = preprocess_inputs(public_df)\n",
    "private_inputs = preprocess_inputs(private_df)"
   ]
  },
  {
   "cell_type": "code",
   "execution_count": null,
   "metadata": {
    "colab": {
     "base_uri": "https://localhost:8080/",
     "height": 204
    },
    "executionInfo": {
     "elapsed": 3326,
     "status": "ok",
     "timestamp": 1600924152291,
     "user": {
      "displayName": "yutaka minowa",
      "photoUrl": "",
      "userId": "11202264431687617954"
     },
     "user_tz": -540
    },
    "id": "C144m3qrk7jb",
    "outputId": "e51f5d1c-25c9-4d75-dcef-05384747ec44"
   },
   "outputs": [
    {
     "data": {
      "text/html": [
       "<div>\n",
       "<style scoped>\n",
       "    .dataframe tbody tr th:only-of-type {\n",
       "        vertical-align: middle;\n",
       "    }\n",
       "\n",
       "    .dataframe tbody tr th {\n",
       "        vertical-align: top;\n",
       "    }\n",
       "\n",
       "    .dataframe thead th {\n",
       "        text-align: right;\n",
       "    }\n",
       "</style>\n",
       "<table border=\"1\" class=\"dataframe\">\n",
       "  <thead>\n",
       "    <tr style=\"text-align: right;\">\n",
       "      <th></th>\n",
       "      <th>reactivity</th>\n",
       "      <th>deg_Mg_pH10</th>\n",
       "      <th>deg_pH10</th>\n",
       "      <th>deg_Mg_50C</th>\n",
       "      <th>deg_50C</th>\n",
       "      <th>id_seqpos</th>\n",
       "    </tr>\n",
       "  </thead>\n",
       "  <tbody>\n",
       "    <tr>\n",
       "      <th>0</th>\n",
       "      <td>0.777181</td>\n",
       "      <td>0.650948</td>\n",
       "      <td>1.926682</td>\n",
       "      <td>0.590105</td>\n",
       "      <td>0.819193</td>\n",
       "      <td>id_00073f8be_0</td>\n",
       "    </tr>\n",
       "    <tr>\n",
       "      <th>1</th>\n",
       "      <td>2.368912</td>\n",
       "      <td>3.452976</td>\n",
       "      <td>4.405334</td>\n",
       "      <td>3.438814</td>\n",
       "      <td>2.936216</td>\n",
       "      <td>id_00073f8be_1</td>\n",
       "    </tr>\n",
       "    <tr>\n",
       "      <th>2</th>\n",
       "      <td>1.570763</td>\n",
       "      <td>0.741650</td>\n",
       "      <td>0.743785</td>\n",
       "      <td>0.864600</td>\n",
       "      <td>0.738837</td>\n",
       "      <td>id_00073f8be_2</td>\n",
       "    </tr>\n",
       "    <tr>\n",
       "      <th>3</th>\n",
       "      <td>1.337996</td>\n",
       "      <td>1.293654</td>\n",
       "      <td>1.321129</td>\n",
       "      <td>1.848098</td>\n",
       "      <td>1.808448</td>\n",
       "      <td>id_00073f8be_3</td>\n",
       "    </tr>\n",
       "    <tr>\n",
       "      <th>4</th>\n",
       "      <td>0.813482</td>\n",
       "      <td>0.567926</td>\n",
       "      <td>0.613762</td>\n",
       "      <td>0.883723</td>\n",
       "      <td>0.941276</td>\n",
       "      <td>id_00073f8be_4</td>\n",
       "    </tr>\n",
       "  </tbody>\n",
       "</table>\n",
       "</div>"
      ],
      "text/plain": [
       "   reactivity  deg_Mg_pH10  deg_pH10  deg_Mg_50C   deg_50C       id_seqpos\n",
       "0    0.777181     0.650948  1.926682    0.590105  0.819193  id_00073f8be_0\n",
       "1    2.368912     3.452976  4.405334    3.438814  2.936216  id_00073f8be_1\n",
       "2    1.570763     0.741650  0.743785    0.864600  0.738837  id_00073f8be_2\n",
       "3    1.337996     1.293654  1.321129    1.848098  1.808448  id_00073f8be_3\n",
       "4    0.813482     0.567926  0.613762    0.883723  0.941276  id_00073f8be_4"
      ]
     },
     "execution_count": 26,
     "metadata": {
      "tags": []
     },
     "output_type": "execute_result"
    }
   ],
   "source": [
    "preds_gru = []\n",
    "\n",
    "for df, preds in [(public_df, gru_public_preds), (private_df, gru_private_preds)]:\n",
    "    for i, uid in enumerate(df.id):\n",
    "        single_pred = preds[i]\n",
    "\n",
    "        single_df = pd.DataFrame(single_pred, columns=target_cols)\n",
    "        single_df['id_seqpos'] = [f'{uid}_{x}' for x in range(single_df.shape[0])]\n",
    "\n",
    "        preds_gru.append(single_df)\n",
    "\n",
    "preds_gru_df = pd.concat(preds_gru)\n",
    "preds_gru_df.head()"
   ]
  },
  {
   "cell_type": "code",
   "execution_count": null,
   "metadata": {
    "colab": {
     "base_uri": "https://localhost:8080/",
     "height": 204
    },
    "executionInfo": {
     "elapsed": 2948,
     "status": "ok",
     "timestamp": 1600924155482,
     "user": {
      "displayName": "yutaka minowa",
      "photoUrl": "",
      "userId": "11202264431687617954"
     },
     "user_tz": -540
    },
    "id": "2tgKebZbEZGs",
    "outputId": "40f12fb2-1b06-48e8-db06-4aa8386a3198"
   },
   "outputs": [
    {
     "data": {
      "text/html": [
       "<div>\n",
       "<style scoped>\n",
       "    .dataframe tbody tr th:only-of-type {\n",
       "        vertical-align: middle;\n",
       "    }\n",
       "\n",
       "    .dataframe tbody tr th {\n",
       "        vertical-align: top;\n",
       "    }\n",
       "\n",
       "    .dataframe thead th {\n",
       "        text-align: right;\n",
       "    }\n",
       "</style>\n",
       "<table border=\"1\" class=\"dataframe\">\n",
       "  <thead>\n",
       "    <tr style=\"text-align: right;\">\n",
       "      <th></th>\n",
       "      <th>reactivity</th>\n",
       "      <th>deg_Mg_pH10</th>\n",
       "      <th>deg_pH10</th>\n",
       "      <th>deg_Mg_50C</th>\n",
       "      <th>deg_50C</th>\n",
       "      <th>id_seqpos</th>\n",
       "    </tr>\n",
       "  </thead>\n",
       "  <tbody>\n",
       "    <tr>\n",
       "      <th>0</th>\n",
       "      <td>0.804766</td>\n",
       "      <td>0.692545</td>\n",
       "      <td>1.989448</td>\n",
       "      <td>0.555771</td>\n",
       "      <td>0.772206</td>\n",
       "      <td>id_00073f8be_0</td>\n",
       "    </tr>\n",
       "    <tr>\n",
       "      <th>1</th>\n",
       "      <td>2.201006</td>\n",
       "      <td>3.180096</td>\n",
       "      <td>4.053584</td>\n",
       "      <td>3.101791</td>\n",
       "      <td>2.754505</td>\n",
       "      <td>id_00073f8be_1</td>\n",
       "    </tr>\n",
       "    <tr>\n",
       "      <th>2</th>\n",
       "      <td>1.544595</td>\n",
       "      <td>0.723672</td>\n",
       "      <td>0.817342</td>\n",
       "      <td>0.843391</td>\n",
       "      <td>0.713634</td>\n",
       "      <td>id_00073f8be_2</td>\n",
       "    </tr>\n",
       "    <tr>\n",
       "      <th>3</th>\n",
       "      <td>1.339916</td>\n",
       "      <td>1.235653</td>\n",
       "      <td>1.322400</td>\n",
       "      <td>1.731426</td>\n",
       "      <td>1.794129</td>\n",
       "      <td>id_00073f8be_3</td>\n",
       "    </tr>\n",
       "    <tr>\n",
       "      <th>4</th>\n",
       "      <td>0.831081</td>\n",
       "      <td>0.589361</td>\n",
       "      <td>0.531925</td>\n",
       "      <td>0.835855</td>\n",
       "      <td>0.839700</td>\n",
       "      <td>id_00073f8be_4</td>\n",
       "    </tr>\n",
       "  </tbody>\n",
       "</table>\n",
       "</div>"
      ],
      "text/plain": [
       "   reactivity  deg_Mg_pH10  deg_pH10  deg_Mg_50C   deg_50C       id_seqpos\n",
       "0    0.804766     0.692545  1.989448    0.555771  0.772206  id_00073f8be_0\n",
       "1    2.201006     3.180096  4.053584    3.101791  2.754505  id_00073f8be_1\n",
       "2    1.544595     0.723672  0.817342    0.843391  0.713634  id_00073f8be_2\n",
       "3    1.339916     1.235653  1.322400    1.731426  1.794129  id_00073f8be_3\n",
       "4    0.831081     0.589361  0.531925    0.835855  0.839700  id_00073f8be_4"
      ]
     },
     "execution_count": 27,
     "metadata": {
      "tags": []
     },
     "output_type": "execute_result"
    }
   ],
   "source": [
    "preds_lstm = []\n",
    "\n",
    "for df, preds in [(public_df, lstm_public_preds), (private_df, lstm_private_preds)]:\n",
    "    for i, uid in enumerate(df.id):\n",
    "        single_pred = preds[i]\n",
    "\n",
    "        single_df = pd.DataFrame(single_pred, columns=target_cols)\n",
    "        single_df['id_seqpos'] = [f'{uid}_{x}' for x in range(single_df.shape[0])]\n",
    "\n",
    "        preds_lstm.append(single_df)\n",
    "\n",
    "preds_lstm_df = pd.concat(preds_lstm)\n",
    "preds_lstm_df.head()"
   ]
  },
  {
   "cell_type": "code",
   "execution_count": null,
   "metadata": {
    "colab": {
     "base_uri": "https://localhost:8080/",
     "height": 204
    },
    "executionInfo": {
     "elapsed": 3476,
     "status": "ok",
     "timestamp": 1600924158952,
     "user": {
      "displayName": "yutaka minowa",
      "photoUrl": "",
      "userId": "11202264431687617954"
     },
     "user_tz": -540
    },
    "id": "AdCHxGomR5Aj",
    "outputId": "5adf08c3-75ec-47dd-d295-221267d9f23b"
   },
   "outputs": [
    {
     "data": {
      "text/html": [
       "<div>\n",
       "<style scoped>\n",
       "    .dataframe tbody tr th:only-of-type {\n",
       "        vertical-align: middle;\n",
       "    }\n",
       "\n",
       "    .dataframe tbody tr th {\n",
       "        vertical-align: top;\n",
       "    }\n",
       "\n",
       "    .dataframe thead th {\n",
       "        text-align: right;\n",
       "    }\n",
       "</style>\n",
       "<table border=\"1\" class=\"dataframe\">\n",
       "  <thead>\n",
       "    <tr style=\"text-align: right;\">\n",
       "      <th></th>\n",
       "      <th>reactivity</th>\n",
       "      <th>deg_Mg_pH10</th>\n",
       "      <th>deg_pH10</th>\n",
       "      <th>deg_Mg_50C</th>\n",
       "      <th>deg_50C</th>\n",
       "      <th>id_seqpos</th>\n",
       "    </tr>\n",
       "  </thead>\n",
       "  <tbody>\n",
       "    <tr>\n",
       "      <th>0</th>\n",
       "      <td>0.681444</td>\n",
       "      <td>0.619697</td>\n",
       "      <td>1.923193</td>\n",
       "      <td>0.535082</td>\n",
       "      <td>0.764663</td>\n",
       "      <td>id_00073f8be_0</td>\n",
       "    </tr>\n",
       "    <tr>\n",
       "      <th>1</th>\n",
       "      <td>1.916358</td>\n",
       "      <td>2.897195</td>\n",
       "      <td>3.784255</td>\n",
       "      <td>2.979251</td>\n",
       "      <td>2.640647</td>\n",
       "      <td>id_00073f8be_1</td>\n",
       "    </tr>\n",
       "    <tr>\n",
       "      <th>2</th>\n",
       "      <td>1.403197</td>\n",
       "      <td>0.674982</td>\n",
       "      <td>0.759185</td>\n",
       "      <td>0.766372</td>\n",
       "      <td>0.737222</td>\n",
       "      <td>id_00073f8be_2</td>\n",
       "    </tr>\n",
       "    <tr>\n",
       "      <th>3</th>\n",
       "      <td>1.252820</td>\n",
       "      <td>1.140383</td>\n",
       "      <td>1.230520</td>\n",
       "      <td>1.559606</td>\n",
       "      <td>1.684649</td>\n",
       "      <td>id_00073f8be_3</td>\n",
       "    </tr>\n",
       "    <tr>\n",
       "      <th>4</th>\n",
       "      <td>0.787805</td>\n",
       "      <td>0.586335</td>\n",
       "      <td>0.484394</td>\n",
       "      <td>0.801529</td>\n",
       "      <td>0.865789</td>\n",
       "      <td>id_00073f8be_4</td>\n",
       "    </tr>\n",
       "  </tbody>\n",
       "</table>\n",
       "</div>"
      ],
      "text/plain": [
       "   reactivity  deg_Mg_pH10  deg_pH10  deg_Mg_50C   deg_50C       id_seqpos\n",
       "0    0.681444     0.619697  1.923193    0.535082  0.764663  id_00073f8be_0\n",
       "1    1.916358     2.897195  3.784255    2.979251  2.640647  id_00073f8be_1\n",
       "2    1.403197     0.674982  0.759185    0.766372  0.737222  id_00073f8be_2\n",
       "3    1.252820     1.140383  1.230520    1.559606  1.684649  id_00073f8be_3\n",
       "4    0.787805     0.586335  0.484394    0.801529  0.865789  id_00073f8be_4"
      ]
     },
     "execution_count": 28,
     "metadata": {
      "tags": []
     },
     "output_type": "execute_result"
    }
   ],
   "source": [
    "preds_mix1 = []\n",
    "\n",
    "for df, preds in [(public_df, mix1_public_preds), (private_df, mix1_private_preds)]:\n",
    "    for i, uid in enumerate(df.id):\n",
    "        single_pred = preds[i]\n",
    "\n",
    "        single_df = pd.DataFrame(single_pred, columns=target_cols)\n",
    "        single_df['id_seqpos'] = [f'{uid}_{x}' for x in range(single_df.shape[0])]\n",
    "\n",
    "        preds_mix1.append(single_df)\n",
    "\n",
    "preds_mix1_df = pd.concat(preds_mix1)\n",
    "preds_mix1_df.head()"
   ]
  },
  {
   "cell_type": "code",
   "execution_count": null,
   "metadata": {
    "colab": {
     "base_uri": "https://localhost:8080/",
     "height": 204
    },
    "executionInfo": {
     "elapsed": 2805,
     "status": "ok",
     "timestamp": 1600924162004,
     "user": {
      "displayName": "yutaka minowa",
      "photoUrl": "",
      "userId": "11202264431687617954"
     },
     "user_tz": -540
    },
    "id": "VcZK2GpCR4gD",
    "outputId": "ad7bd16b-c58a-4b9e-bc0c-3026c3acccc8"
   },
   "outputs": [
    {
     "data": {
      "text/html": [
       "<div>\n",
       "<style scoped>\n",
       "    .dataframe tbody tr th:only-of-type {\n",
       "        vertical-align: middle;\n",
       "    }\n",
       "\n",
       "    .dataframe tbody tr th {\n",
       "        vertical-align: top;\n",
       "    }\n",
       "\n",
       "    .dataframe thead th {\n",
       "        text-align: right;\n",
       "    }\n",
       "</style>\n",
       "<table border=\"1\" class=\"dataframe\">\n",
       "  <thead>\n",
       "    <tr style=\"text-align: right;\">\n",
       "      <th></th>\n",
       "      <th>reactivity</th>\n",
       "      <th>deg_Mg_pH10</th>\n",
       "      <th>deg_pH10</th>\n",
       "      <th>deg_Mg_50C</th>\n",
       "      <th>deg_50C</th>\n",
       "      <th>id_seqpos</th>\n",
       "    </tr>\n",
       "  </thead>\n",
       "  <tbody>\n",
       "    <tr>\n",
       "      <th>0</th>\n",
       "      <td>0.818222</td>\n",
       "      <td>0.713995</td>\n",
       "      <td>1.974907</td>\n",
       "      <td>0.626505</td>\n",
       "      <td>0.823153</td>\n",
       "      <td>id_00073f8be_0</td>\n",
       "    </tr>\n",
       "    <tr>\n",
       "      <th>1</th>\n",
       "      <td>2.496315</td>\n",
       "      <td>3.597928</td>\n",
       "      <td>4.164439</td>\n",
       "      <td>3.495098</td>\n",
       "      <td>2.990430</td>\n",
       "      <td>id_00073f8be_1</td>\n",
       "    </tr>\n",
       "    <tr>\n",
       "      <th>2</th>\n",
       "      <td>1.497715</td>\n",
       "      <td>0.653315</td>\n",
       "      <td>0.633327</td>\n",
       "      <td>0.766312</td>\n",
       "      <td>0.700069</td>\n",
       "      <td>id_00073f8be_2</td>\n",
       "    </tr>\n",
       "    <tr>\n",
       "      <th>3</th>\n",
       "      <td>1.253137</td>\n",
       "      <td>1.199301</td>\n",
       "      <td>1.211941</td>\n",
       "      <td>1.749815</td>\n",
       "      <td>1.827983</td>\n",
       "      <td>id_00073f8be_3</td>\n",
       "    </tr>\n",
       "    <tr>\n",
       "      <th>4</th>\n",
       "      <td>0.810802</td>\n",
       "      <td>0.537679</td>\n",
       "      <td>0.524337</td>\n",
       "      <td>0.837164</td>\n",
       "      <td>0.917465</td>\n",
       "      <td>id_00073f8be_4</td>\n",
       "    </tr>\n",
       "  </tbody>\n",
       "</table>\n",
       "</div>"
      ],
      "text/plain": [
       "   reactivity  deg_Mg_pH10  deg_pH10  deg_Mg_50C   deg_50C       id_seqpos\n",
       "0    0.818222     0.713995  1.974907    0.626505  0.823153  id_00073f8be_0\n",
       "1    2.496315     3.597928  4.164439    3.495098  2.990430  id_00073f8be_1\n",
       "2    1.497715     0.653315  0.633327    0.766312  0.700069  id_00073f8be_2\n",
       "3    1.253137     1.199301  1.211941    1.749815  1.827983  id_00073f8be_3\n",
       "4    0.810802     0.537679  0.524337    0.837164  0.917465  id_00073f8be_4"
      ]
     },
     "execution_count": 29,
     "metadata": {
      "tags": []
     },
     "output_type": "execute_result"
    }
   ],
   "source": [
    "preds_mix2 = []\n",
    "\n",
    "for df, preds in [(public_df, mix2_public_preds), (private_df, mix2_private_preds)]:\n",
    "    for i, uid in enumerate(df.id):\n",
    "        single_pred = preds[i]\n",
    "\n",
    "        single_df = pd.DataFrame(single_pred, columns=target_cols)\n",
    "        single_df['id_seqpos'] = [f'{uid}_{x}' for x in range(single_df.shape[0])]\n",
    "\n",
    "        preds_mix2.append(single_df)\n",
    "\n",
    "preds_mix2_df = pd.concat(preds_mix2)\n",
    "preds_mix2_df.head()"
   ]
  },
  {
   "cell_type": "code",
   "execution_count": null,
   "metadata": {
    "id": "_1xB0_Fm_2Fl"
   },
   "outputs": [],
   "source": [
    "blend_preds_df = pd.DataFrame()\n",
    "blend_preds_df['id_seqpos'] = preds_gru_df['id_seqpos']\n",
    "blend_preds_df['reactivity'] = .25*preds_gru_df['reactivity'] + .25*preds_lstm_df['reactivity'] + .25*preds_mix1_df['reactivity'] + .25*preds_mix2_df['reactivity']\n",
    "blend_preds_df['deg_Mg_pH10'] = .25*preds_gru_df['deg_Mg_pH10'] + .25*preds_lstm_df['deg_Mg_pH10'] + .25*preds_mix1_df['deg_Mg_pH10'] + .25*preds_mix2_df['deg_Mg_pH10']\n",
    "blend_preds_df['deg_pH10'] = .25*preds_gru_df['deg_pH10'] + .25*preds_lstm_df['deg_pH10'] + .25*preds_mix1_df['deg_pH10'] + .25*preds_mix2_df['deg_pH10']\n",
    "blend_preds_df['deg_Mg_50C'] = .25*preds_gru_df['deg_Mg_50C'] + .25*preds_lstm_df['deg_Mg_50C'] + .25*preds_mix1_df['deg_Mg_50C'] + .25*preds_mix2_df['deg_Mg_50C']\n",
    "blend_preds_df['deg_50C'] = .25*preds_gru_df['deg_50C'] + .25*preds_lstm_df['deg_50C'] + .25*preds_mix1_df['deg_50C'] + .25*preds_mix2_df['deg_50C'] "
   ]
  },
  {
   "cell_type": "code",
   "execution_count": null,
   "metadata": {
    "id": "dLhQdFiDk9mF"
   },
   "outputs": [],
   "source": [
    "submission = sample_sub[['id_seqpos']].merge(blend_preds_df, on=['id_seqpos'])\n",
    "submission.to_csv(data_dir + '/kaggle/input/stanford-covid-vaccine/submission.csv', index=False)"
   ]
  },
  {
   "cell_type": "code",
   "execution_count": null,
   "metadata": {
    "colab": {
     "base_uri": "https://localhost:8080/",
     "height": 204
    },
    "executionInfo": {
     "elapsed": 803,
     "status": "ok",
     "timestamp": 1600925020592,
     "user": {
      "displayName": "yutaka minowa",
      "photoUrl": "",
      "userId": "11202264431687617954"
     },
     "user_tz": -540
    },
    "id": "vmakBzO4wRsZ",
    "outputId": "122cf575-8fff-41bb-ab98-1a21f10cbc9b"
   },
   "outputs": [
    {
     "data": {
      "text/html": [
       "<div>\n",
       "<style scoped>\n",
       "    .dataframe tbody tr th:only-of-type {\n",
       "        vertical-align: middle;\n",
       "    }\n",
       "\n",
       "    .dataframe tbody tr th {\n",
       "        vertical-align: top;\n",
       "    }\n",
       "\n",
       "    .dataframe thead th {\n",
       "        text-align: right;\n",
       "    }\n",
       "</style>\n",
       "<table border=\"1\" class=\"dataframe\">\n",
       "  <thead>\n",
       "    <tr style=\"text-align: right;\">\n",
       "      <th></th>\n",
       "      <th>id_seqpos</th>\n",
       "      <th>reactivity</th>\n",
       "      <th>deg_Mg_pH10</th>\n",
       "      <th>deg_pH10</th>\n",
       "      <th>deg_Mg_50C</th>\n",
       "      <th>deg_50C</th>\n",
       "    </tr>\n",
       "  </thead>\n",
       "  <tbody>\n",
       "    <tr>\n",
       "      <th>0</th>\n",
       "      <td>id_00073f8be_0</td>\n",
       "      <td>0.770403</td>\n",
       "      <td>0.669296</td>\n",
       "      <td>1.953558</td>\n",
       "      <td>0.576866</td>\n",
       "      <td>0.794804</td>\n",
       "    </tr>\n",
       "    <tr>\n",
       "      <th>1</th>\n",
       "      <td>id_00073f8be_1</td>\n",
       "      <td>2.245648</td>\n",
       "      <td>3.282049</td>\n",
       "      <td>4.101903</td>\n",
       "      <td>3.253739</td>\n",
       "      <td>2.830449</td>\n",
       "    </tr>\n",
       "    <tr>\n",
       "      <th>2</th>\n",
       "      <td>id_00073f8be_2</td>\n",
       "      <td>1.504067</td>\n",
       "      <td>0.698405</td>\n",
       "      <td>0.738410</td>\n",
       "      <td>0.810169</td>\n",
       "      <td>0.722441</td>\n",
       "    </tr>\n",
       "    <tr>\n",
       "      <th>3</th>\n",
       "      <td>id_00073f8be_3</td>\n",
       "      <td>1.295967</td>\n",
       "      <td>1.217248</td>\n",
       "      <td>1.271497</td>\n",
       "      <td>1.722236</td>\n",
       "      <td>1.778802</td>\n",
       "    </tr>\n",
       "    <tr>\n",
       "      <th>4</th>\n",
       "      <td>id_00073f8be_4</td>\n",
       "      <td>0.810792</td>\n",
       "      <td>0.570325</td>\n",
       "      <td>0.538604</td>\n",
       "      <td>0.839568</td>\n",
       "      <td>0.891057</td>\n",
       "    </tr>\n",
       "  </tbody>\n",
       "</table>\n",
       "</div>"
      ],
      "text/plain": [
       "        id_seqpos  reactivity  deg_Mg_pH10  deg_pH10  deg_Mg_50C   deg_50C\n",
       "0  id_00073f8be_0    0.770403     0.669296  1.953558    0.576866  0.794804\n",
       "1  id_00073f8be_1    2.245648     3.282049  4.101903    3.253739  2.830449\n",
       "2  id_00073f8be_2    1.504067     0.698405  0.738410    0.810169  0.722441\n",
       "3  id_00073f8be_3    1.295967     1.217248  1.271497    1.722236  1.778802\n",
       "4  id_00073f8be_4    0.810792     0.570325  0.538604    0.839568  0.891057"
      ]
     },
     "execution_count": 33,
     "metadata": {
      "tags": []
     },
     "output_type": "execute_result"
    }
   ],
   "source": [
    "submission.head()"
   ]
  },
  {
   "cell_type": "code",
   "execution_count": null,
   "metadata": {
    "id": "Knb0vx4s4DQe"
   },
   "outputs": [],
   "source": []
  }
 ],
 "metadata": {
  "accelerator": "GPU",
  "colab": {
   "authorship_tag": "ABX9TyNkCMaoV2ULp4dw/ZR7zs/S",
   "collapsed_sections": [],
   "name": "02 My COVID Vaccine: Simple GRU Model Increased features.ipynb",
   "provenance": []
  },
  "kernelspec": {
   "display_name": "Python 3",
   "language": "python",
   "name": "python3"
  },
  "language_info": {
   "codemirror_mode": {
    "name": "ipython",
    "version": 3
   },
   "file_extension": ".py",
   "mimetype": "text/x-python",
   "name": "python",
   "nbconvert_exporter": "python",
   "pygments_lexer": "ipython3",
   "version": "3.7.7"
  }
 },
 "nbformat": 4,
 "nbformat_minor": 1
}
